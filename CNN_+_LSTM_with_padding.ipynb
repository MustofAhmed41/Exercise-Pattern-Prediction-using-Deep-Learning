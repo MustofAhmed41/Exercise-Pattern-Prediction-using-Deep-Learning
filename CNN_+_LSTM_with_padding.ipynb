{
  "nbformat": 4,
  "nbformat_minor": 0,
  "metadata": {
    "colab": {
      "provenance": [],
      "collapsed_sections": []
    },
    "kernelspec": {
      "name": "python3",
      "display_name": "Python 3"
    },
    "language_info": {
      "name": "python"
    }
  },
  "cells": [
    {
      "cell_type": "markdown",
      "metadata": {
        "id": "view-in-github"
      },
      "source": [
        "<a href=\"https://colab.research.google.com/github/MustofAhmed41/Exercise-Pattern-Prediction-Deep-Learning/blob/master/CNN%20%2B%20LSTM%20with%20padding.ipynb\" target=\"_parent\"><img src=\"https://colab.research.google.com/assets/colab-badge.svg\" alt=\"Open In Colab\"/></a>"
      ]
    },
    {
      "cell_type": "markdown",
      "source": [
        "# Importing Library"
      ],
      "metadata": {
        "id": "18ZT7P5scD8A"
      }
    },
    {
      "cell_type": "code",
      "execution_count": null,
      "metadata": {
        "id": "UFSeVHqvtEOW"
      },
      "outputs": [],
      "source": [
        "import numpy as np\n",
        "import seaborn as sns\n",
        "import matplotlib.pyplot as plt\n",
        "import pandas as pd"
      ]
    },
    {
      "cell_type": "code",
      "source": [
        "from tensorflow.keras.utils import to_categorical\n",
        "from numpy import mean\n",
        "from numpy import std\n",
        "from numpy import dstack\n",
        "from keras.models import Sequential\n",
        "from keras.layers import Dense\n",
        "from keras.layers import Flatten\n",
        "from keras.layers import Dropout\n",
        "from keras.layers.convolutional import Conv1D\n",
        "from keras.layers.convolutional import MaxPooling1D\n",
        "from tensorflow.keras.utils import to_categorical\n",
        "from keras.layers import Input, Dense, LSTM, MaxPooling1D, Conv1D"
      ],
      "metadata": {
        "id": "3Unwu00iywG0"
      },
      "execution_count": null,
      "outputs": []
    },
    {
      "cell_type": "markdown",
      "source": [
        "# Connecting to Google Drive"
      ],
      "metadata": {
        "id": "wYUoaVkhcGyi"
      }
    },
    {
      "cell_type": "code",
      "source": [
        "from google.colab import drive\n",
        "drive.mount('/content/drive')"
      ],
      "metadata": {
        "colab": {
          "base_uri": "https://localhost:8080/"
        },
        "id": "pZqrtwUXujjz",
        "outputId": "1fd507c6-ba39-49df-eb89-a118545655cd"
      },
      "execution_count": null,
      "outputs": [
        {
          "output_type": "stream",
          "name": "stdout",
          "text": [
            "Mounted at /content/drive\n"
          ]
        }
      ]
    },
    {
      "cell_type": "code",
      "source": [
        "cd'/content/drive/MyDrive/Colab Notebooks/Dataset/Softcom Assignment 1'"
      ],
      "metadata": {
        "colab": {
          "base_uri": "https://localhost:8080/"
        },
        "id": "NlaNf6Vtuw2W",
        "outputId": "010bcd3e-bf20-47bb-85c7-b72b0e4bc97b"
      },
      "execution_count": null,
      "outputs": [
        {
          "output_type": "stream",
          "name": "stdout",
          "text": [
            "/content/drive/MyDrive/Colab Notebooks/Dataset/Softcom Assignment 1\n"
          ]
        }
      ]
    },
    {
      "cell_type": "markdown",
      "source": [
        "# Loading Data"
      ],
      "metadata": {
        "id": "OaD41izFcKY2"
      }
    },
    {
      "cell_type": "code",
      "source": [
        "load = pd.read_csv('Preprocessed_Exercise_Deep_Learning.csv');"
      ],
      "metadata": {
        "id": "RgOM15cwtJXt"
      },
      "execution_count": null,
      "outputs": []
    },
    {
      "cell_type": "code",
      "source": [
        "df = load.copy()"
      ],
      "metadata": {
        "id": "WX5NgKqQ0q8d"
      },
      "execution_count": null,
      "outputs": []
    },
    {
      "cell_type": "code",
      "source": [
        "df.head()"
      ],
      "metadata": {
        "colab": {
          "base_uri": "https://localhost:8080/",
          "height": 317
        },
        "id": "zItJbWY-vBOC",
        "outputId": "1e406149-5612-4258-d98e-276016793e71"
      },
      "execution_count": null,
      "outputs": [
        {
          "output_type": "execute_result",
          "data": {
            "text/plain": [
              "   Unnamed: 0 new_window  num_window  roll_belt  pitch_belt  yaw_belt  \\\n",
              "0           0         no         1.0       3.70        41.6     -82.8   \n",
              "1           1         no         1.0       3.66        42.8     -82.5   \n",
              "2           2         no         1.0       3.58        43.7     -82.3   \n",
              "3           3         no         1.0       3.56        44.4     -82.1   \n",
              "4           4         no         1.0       3.57        45.1     -81.9   \n",
              "\n",
              "   total_accel_belt  kurtosis_roll_belt  kurtosis_picth_belt  \\\n",
              "0               3.0           -0.157538            -1.610293   \n",
              "1               2.0           -0.157538            -1.610293   \n",
              "2               1.0           -0.157538            -1.610293   \n",
              "3               1.0           -0.157538            -1.610293   \n",
              "4               1.0           -0.157538            -1.610293   \n",
              "\n",
              "   kurtosis_yaw_belt  ...  gyros_dumbbell_x  gyros_dumbbell_y  \\\n",
              "0          -0.157538  ...             -0.31              0.16   \n",
              "1          -0.157538  ...             -0.31              0.14   \n",
              "2          -0.157538  ...             -0.31              0.16   \n",
              "3          -0.157538  ...             -0.31              0.16   \n",
              "4          -0.157538  ...             -0.31              0.14   \n",
              "\n",
              "   gyros_dumbbell_z  accel_dumbbell_x  accel_dumbbell_y  accel_dumbbell_z  \\\n",
              "0              0.08               5.0              21.0              37.0   \n",
              "1              0.07               4.0              22.0              35.0   \n",
              "2              0.05               3.0              23.0              37.0   \n",
              "3              0.07               5.0              24.0              38.0   \n",
              "4              0.07               5.0              23.0              37.0   \n",
              "\n",
              "   magnet_dumbbell_x  magnet_dumbbell_y  magnet_dumbbell_z  classe  \n",
              "0             -471.0              191.0              277.0       E  \n",
              "1             -472.0              184.0              281.0       E  \n",
              "2             -468.0              190.0              275.0       E  \n",
              "3             -469.0              184.0              285.0       E  \n",
              "4             -468.0              189.0              292.0       E  \n",
              "\n",
              "[5 rows x 80 columns]"
            ],
            "text/html": [
              "\n",
              "  <div id=\"df-5a056c9a-9624-4f2f-90c9-6ab15889f3e3\">\n",
              "    <div class=\"colab-df-container\">\n",
              "      <div>\n",
              "<style scoped>\n",
              "    .dataframe tbody tr th:only-of-type {\n",
              "        vertical-align: middle;\n",
              "    }\n",
              "\n",
              "    .dataframe tbody tr th {\n",
              "        vertical-align: top;\n",
              "    }\n",
              "\n",
              "    .dataframe thead th {\n",
              "        text-align: right;\n",
              "    }\n",
              "</style>\n",
              "<table border=\"1\" class=\"dataframe\">\n",
              "  <thead>\n",
              "    <tr style=\"text-align: right;\">\n",
              "      <th></th>\n",
              "      <th>Unnamed: 0</th>\n",
              "      <th>new_window</th>\n",
              "      <th>num_window</th>\n",
              "      <th>roll_belt</th>\n",
              "      <th>pitch_belt</th>\n",
              "      <th>yaw_belt</th>\n",
              "      <th>total_accel_belt</th>\n",
              "      <th>kurtosis_roll_belt</th>\n",
              "      <th>kurtosis_picth_belt</th>\n",
              "      <th>kurtosis_yaw_belt</th>\n",
              "      <th>...</th>\n",
              "      <th>gyros_dumbbell_x</th>\n",
              "      <th>gyros_dumbbell_y</th>\n",
              "      <th>gyros_dumbbell_z</th>\n",
              "      <th>accel_dumbbell_x</th>\n",
              "      <th>accel_dumbbell_y</th>\n",
              "      <th>accel_dumbbell_z</th>\n",
              "      <th>magnet_dumbbell_x</th>\n",
              "      <th>magnet_dumbbell_y</th>\n",
              "      <th>magnet_dumbbell_z</th>\n",
              "      <th>classe</th>\n",
              "    </tr>\n",
              "  </thead>\n",
              "  <tbody>\n",
              "    <tr>\n",
              "      <th>0</th>\n",
              "      <td>0</td>\n",
              "      <td>no</td>\n",
              "      <td>1.0</td>\n",
              "      <td>3.70</td>\n",
              "      <td>41.6</td>\n",
              "      <td>-82.8</td>\n",
              "      <td>3.0</td>\n",
              "      <td>-0.157538</td>\n",
              "      <td>-1.610293</td>\n",
              "      <td>-0.157538</td>\n",
              "      <td>...</td>\n",
              "      <td>-0.31</td>\n",
              "      <td>0.16</td>\n",
              "      <td>0.08</td>\n",
              "      <td>5.0</td>\n",
              "      <td>21.0</td>\n",
              "      <td>37.0</td>\n",
              "      <td>-471.0</td>\n",
              "      <td>191.0</td>\n",
              "      <td>277.0</td>\n",
              "      <td>E</td>\n",
              "    </tr>\n",
              "    <tr>\n",
              "      <th>1</th>\n",
              "      <td>1</td>\n",
              "      <td>no</td>\n",
              "      <td>1.0</td>\n",
              "      <td>3.66</td>\n",
              "      <td>42.8</td>\n",
              "      <td>-82.5</td>\n",
              "      <td>2.0</td>\n",
              "      <td>-0.157538</td>\n",
              "      <td>-1.610293</td>\n",
              "      <td>-0.157538</td>\n",
              "      <td>...</td>\n",
              "      <td>-0.31</td>\n",
              "      <td>0.14</td>\n",
              "      <td>0.07</td>\n",
              "      <td>4.0</td>\n",
              "      <td>22.0</td>\n",
              "      <td>35.0</td>\n",
              "      <td>-472.0</td>\n",
              "      <td>184.0</td>\n",
              "      <td>281.0</td>\n",
              "      <td>E</td>\n",
              "    </tr>\n",
              "    <tr>\n",
              "      <th>2</th>\n",
              "      <td>2</td>\n",
              "      <td>no</td>\n",
              "      <td>1.0</td>\n",
              "      <td>3.58</td>\n",
              "      <td>43.7</td>\n",
              "      <td>-82.3</td>\n",
              "      <td>1.0</td>\n",
              "      <td>-0.157538</td>\n",
              "      <td>-1.610293</td>\n",
              "      <td>-0.157538</td>\n",
              "      <td>...</td>\n",
              "      <td>-0.31</td>\n",
              "      <td>0.16</td>\n",
              "      <td>0.05</td>\n",
              "      <td>3.0</td>\n",
              "      <td>23.0</td>\n",
              "      <td>37.0</td>\n",
              "      <td>-468.0</td>\n",
              "      <td>190.0</td>\n",
              "      <td>275.0</td>\n",
              "      <td>E</td>\n",
              "    </tr>\n",
              "    <tr>\n",
              "      <th>3</th>\n",
              "      <td>3</td>\n",
              "      <td>no</td>\n",
              "      <td>1.0</td>\n",
              "      <td>3.56</td>\n",
              "      <td>44.4</td>\n",
              "      <td>-82.1</td>\n",
              "      <td>1.0</td>\n",
              "      <td>-0.157538</td>\n",
              "      <td>-1.610293</td>\n",
              "      <td>-0.157538</td>\n",
              "      <td>...</td>\n",
              "      <td>-0.31</td>\n",
              "      <td>0.16</td>\n",
              "      <td>0.07</td>\n",
              "      <td>5.0</td>\n",
              "      <td>24.0</td>\n",
              "      <td>38.0</td>\n",
              "      <td>-469.0</td>\n",
              "      <td>184.0</td>\n",
              "      <td>285.0</td>\n",
              "      <td>E</td>\n",
              "    </tr>\n",
              "    <tr>\n",
              "      <th>4</th>\n",
              "      <td>4</td>\n",
              "      <td>no</td>\n",
              "      <td>1.0</td>\n",
              "      <td>3.57</td>\n",
              "      <td>45.1</td>\n",
              "      <td>-81.9</td>\n",
              "      <td>1.0</td>\n",
              "      <td>-0.157538</td>\n",
              "      <td>-1.610293</td>\n",
              "      <td>-0.157538</td>\n",
              "      <td>...</td>\n",
              "      <td>-0.31</td>\n",
              "      <td>0.14</td>\n",
              "      <td>0.07</td>\n",
              "      <td>5.0</td>\n",
              "      <td>23.0</td>\n",
              "      <td>37.0</td>\n",
              "      <td>-468.0</td>\n",
              "      <td>189.0</td>\n",
              "      <td>292.0</td>\n",
              "      <td>E</td>\n",
              "    </tr>\n",
              "  </tbody>\n",
              "</table>\n",
              "<p>5 rows × 80 columns</p>\n",
              "</div>\n",
              "      <button class=\"colab-df-convert\" onclick=\"convertToInteractive('df-5a056c9a-9624-4f2f-90c9-6ab15889f3e3')\"\n",
              "              title=\"Convert this dataframe to an interactive table.\"\n",
              "              style=\"display:none;\">\n",
              "        \n",
              "  <svg xmlns=\"http://www.w3.org/2000/svg\" height=\"24px\"viewBox=\"0 0 24 24\"\n",
              "       width=\"24px\">\n",
              "    <path d=\"M0 0h24v24H0V0z\" fill=\"none\"/>\n",
              "    <path d=\"M18.56 5.44l.94 2.06.94-2.06 2.06-.94-2.06-.94-.94-2.06-.94 2.06-2.06.94zm-11 1L8.5 8.5l.94-2.06 2.06-.94-2.06-.94L8.5 2.5l-.94 2.06-2.06.94zm10 10l.94 2.06.94-2.06 2.06-.94-2.06-.94-.94-2.06-.94 2.06-2.06.94z\"/><path d=\"M17.41 7.96l-1.37-1.37c-.4-.4-.92-.59-1.43-.59-.52 0-1.04.2-1.43.59L10.3 9.45l-7.72 7.72c-.78.78-.78 2.05 0 2.83L4 21.41c.39.39.9.59 1.41.59.51 0 1.02-.2 1.41-.59l7.78-7.78 2.81-2.81c.8-.78.8-2.07 0-2.86zM5.41 20L4 18.59l7.72-7.72 1.47 1.35L5.41 20z\"/>\n",
              "  </svg>\n",
              "      </button>\n",
              "      \n",
              "  <style>\n",
              "    .colab-df-container {\n",
              "      display:flex;\n",
              "      flex-wrap:wrap;\n",
              "      gap: 12px;\n",
              "    }\n",
              "\n",
              "    .colab-df-convert {\n",
              "      background-color: #E8F0FE;\n",
              "      border: none;\n",
              "      border-radius: 50%;\n",
              "      cursor: pointer;\n",
              "      display: none;\n",
              "      fill: #1967D2;\n",
              "      height: 32px;\n",
              "      padding: 0 0 0 0;\n",
              "      width: 32px;\n",
              "    }\n",
              "\n",
              "    .colab-df-convert:hover {\n",
              "      background-color: #E2EBFA;\n",
              "      box-shadow: 0px 1px 2px rgba(60, 64, 67, 0.3), 0px 1px 3px 1px rgba(60, 64, 67, 0.15);\n",
              "      fill: #174EA6;\n",
              "    }\n",
              "\n",
              "    [theme=dark] .colab-df-convert {\n",
              "      background-color: #3B4455;\n",
              "      fill: #D2E3FC;\n",
              "    }\n",
              "\n",
              "    [theme=dark] .colab-df-convert:hover {\n",
              "      background-color: #434B5C;\n",
              "      box-shadow: 0px 1px 3px 1px rgba(0, 0, 0, 0.15);\n",
              "      filter: drop-shadow(0px 1px 2px rgba(0, 0, 0, 0.3));\n",
              "      fill: #FFFFFF;\n",
              "    }\n",
              "  </style>\n",
              "\n",
              "      <script>\n",
              "        const buttonEl =\n",
              "          document.querySelector('#df-5a056c9a-9624-4f2f-90c9-6ab15889f3e3 button.colab-df-convert');\n",
              "        buttonEl.style.display =\n",
              "          google.colab.kernel.accessAllowed ? 'block' : 'none';\n",
              "\n",
              "        async function convertToInteractive(key) {\n",
              "          const element = document.querySelector('#df-5a056c9a-9624-4f2f-90c9-6ab15889f3e3');\n",
              "          const dataTable =\n",
              "            await google.colab.kernel.invokeFunction('convertToInteractive',\n",
              "                                                     [key], {});\n",
              "          if (!dataTable) return;\n",
              "\n",
              "          const docLinkHtml = 'Like what you see? Visit the ' +\n",
              "            '<a target=\"_blank\" href=https://colab.research.google.com/notebooks/data_table.ipynb>data table notebook</a>'\n",
              "            + ' to learn more about interactive tables.';\n",
              "          element.innerHTML = '';\n",
              "          dataTable['output_type'] = 'display_data';\n",
              "          await google.colab.output.renderOutput(dataTable, element);\n",
              "          const docLink = document.createElement('div');\n",
              "          docLink.innerHTML = docLinkHtml;\n",
              "          element.appendChild(docLink);\n",
              "        }\n",
              "      </script>\n",
              "    </div>\n",
              "  </div>\n",
              "  "
            ]
          },
          "metadata": {},
          "execution_count": 7
        }
      ]
    },
    {
      "cell_type": "code",
      "source": [
        "#converting dataframe to numpy arrays\n",
        "\n",
        "df2 = pd.DataFrame(data = np.array(df['num_window']), columns=['num_window'] )\n",
        "df2['roll_belt'], df2['pitch_belt'], df2['yaw_belt'] = np.array(df['roll_belt']),  np.array(df['pitch_belt']), np.array(df['yaw_belt'])\n",
        "df2['roll_dumbbell'], df2['pitch_dumbbell'], df2['yaw_dumbbell']  = np.array(df['roll_dumbbell']),  np.array(df['pitch_dumbbell']), np.array(df['yaw_dumbbell'])\n",
        "df2['total_accel_belt'], df2['total_accel_dumbbell']  = np.array(df['total_accel_belt']),  np.array(df['total_accel_dumbbell'])\n",
        "df2['gyros_belt_x'], df2['gyros_belt_y'], df2['gyros_belt_z']  = np.array(df['gyros_belt_x']),  np.array(df['gyros_belt_y']), np.array(df['gyros_belt_z'])\n",
        "df2['accel_belt_x'], df2['accel_belt_y'], df2['accel_belt_z']  = np.array(df['accel_belt_x']),  np.array(df['accel_belt_y']), np.array(df['accel_belt_z'])\n",
        "df2['magnet_belt_x'], df2['magnet_belt_y'], df2['magnet_belt_z']  = np.array(df['magnet_belt_x']),  np.array(df['magnet_belt_y']), np.array(df['magnet_belt_z'])\n",
        "df2['gyros_dumbbell_x'], df2['gyros_dumbbell_y'], df2['gyros_dumbbell_z']  = np.array(df['gyros_dumbbell_x']),  np.array(df['gyros_dumbbell_y']), np.array(df['gyros_dumbbell_z'])\n",
        "df2['accel_dumbbell_x'], df2['accel_dumbbell_y'], df2['accel_dumbbell_z']  = np.array(df['accel_dumbbell_x']),  np.array(df['accel_dumbbell_y']), np.array(df['accel_dumbbell_z'])\n",
        "df2['magnet_dumbbell_x'], df2['magnet_dumbbell_y'], df2['magnet_dumbbell_z']  = np.array(df['magnet_dumbbell_x']),  np.array(df['magnet_dumbbell_y']), np.array(df['magnet_dumbbell_z'])\n",
        "df2['classe'] =  np.array(df['classe'])"
      ],
      "metadata": {
        "id": "3slp9sgWhk9q"
      },
      "execution_count": null,
      "outputs": []
    },
    {
      "cell_type": "code",
      "source": [
        "df2.columns"
      ],
      "metadata": {
        "colab": {
          "base_uri": "https://localhost:8080/"
        },
        "id": "m-cyQkdBjcMr",
        "outputId": "4948ba85-b0fb-4fe8-d710-b8da56c7a95c"
      },
      "execution_count": null,
      "outputs": [
        {
          "output_type": "execute_result",
          "data": {
            "text/plain": [
              "Index(['num_window', 'roll_belt', 'pitch_belt', 'yaw_belt', 'roll_dumbbell',\n",
              "       'pitch_dumbbell', 'yaw_dumbbell', 'total_accel_belt',\n",
              "       'total_accel_dumbbell', 'gyros_belt_x', 'gyros_belt_y', 'gyros_belt_z',\n",
              "       'accel_belt_x', 'accel_belt_y', 'accel_belt_z', 'magnet_belt_x',\n",
              "       'magnet_belt_y', 'magnet_belt_z', 'gyros_dumbbell_x',\n",
              "       'gyros_dumbbell_y', 'gyros_dumbbell_z', 'accel_dumbbell_x',\n",
              "       'accel_dumbbell_y', 'accel_dumbbell_z', 'magnet_dumbbell_x',\n",
              "       'magnet_dumbbell_y', 'magnet_dumbbell_z', 'classe'],\n",
              "      dtype='object')"
            ]
          },
          "metadata": {},
          "execution_count": 9
        }
      ]
    },
    {
      "cell_type": "code",
      "source": [
        "# Creating data of fixed window size\n",
        "total = 0\n",
        "count = 0\n",
        "dropping_threshold = 27\n",
        "for i in df2['num_window'].unique():\n",
        "    val = len( df2[ df2['num_window'] == i ])\n",
        "    total += val\n",
        "    if val <=dropping_threshold:\n",
        "        count += 1\n",
        "print('Total : ', df2['num_window'].nunique())\n",
        "print('Average : ', total/df2['num_window'].nunique())\n",
        "print('Dropped : ', count)"
      ],
      "metadata": {
        "colab": {
          "base_uri": "https://localhost:8080/"
        },
        "id": "CFfSDs06z1bC",
        "outputId": "f98def30-2721-4b1c-cb95-171d592a19cb"
      },
      "execution_count": null,
      "outputs": [
        {
          "output_type": "stream",
          "name": "stdout",
          "text": [
            "Total :  855\n",
            "Average :  45.88187134502924\n",
            "Dropped :  31\n"
          ]
        }
      ]
    },
    {
      "cell_type": "code",
      "source": [
        "lst = []\n",
        "for i in df2['num_window'].unique():  \n",
        "    lst.append(len( df2[ df2['num_window'] == i ]))\n",
        "max_window = max(lst)\n",
        "max_window"
      ],
      "metadata": {
        "id": "gxZPR54p0MJU",
        "outputId": "26db1567-182e-4834-e8ac-a4654cb2af91",
        "colab": {
          "base_uri": "https://localhost:8080/"
        }
      },
      "execution_count": null,
      "outputs": [
        {
          "output_type": "execute_result",
          "data": {
            "text/plain": [
              "73"
            ]
          },
          "metadata": {},
          "execution_count": 11
        }
      ]
    },
    {
      "cell_type": "code",
      "source": [
        "df2.columns"
      ],
      "metadata": {
        "id": "-xGthGIUtqsr",
        "outputId": "5dfc61de-7f43-4ce6-84d6-b56df3430ae0",
        "colab": {
          "base_uri": "https://localhost:8080/"
        }
      },
      "execution_count": null,
      "outputs": [
        {
          "output_type": "execute_result",
          "data": {
            "text/plain": [
              "Index(['num_window', 'roll_belt', 'pitch_belt', 'yaw_belt', 'roll_dumbbell',\n",
              "       'pitch_dumbbell', 'yaw_dumbbell', 'total_accel_belt',\n",
              "       'total_accel_dumbbell', 'gyros_belt_x', 'gyros_belt_y', 'gyros_belt_z',\n",
              "       'accel_belt_x', 'accel_belt_y', 'accel_belt_z', 'magnet_belt_x',\n",
              "       'magnet_belt_y', 'magnet_belt_z', 'gyros_dumbbell_x',\n",
              "       'gyros_dumbbell_y', 'gyros_dumbbell_z', 'accel_dumbbell_x',\n",
              "       'accel_dumbbell_y', 'accel_dumbbell_z', 'magnet_dumbbell_x',\n",
              "       'magnet_dumbbell_y', 'magnet_dumbbell_z', 'classe'],\n",
              "      dtype='object')"
            ]
          },
          "metadata": {},
          "execution_count": 12
        }
      ]
    },
    {
      "cell_type": "code",
      "source": [
        "print(len(df2))"
      ],
      "metadata": {
        "id": "CpRceYCquQsl",
        "outputId": "fa5d6f22-6f3a-43f7-a502-2f8a2d938fc9",
        "colab": {
          "base_uri": "https://localhost:8080/"
        }
      },
      "execution_count": null,
      "outputs": [
        {
          "output_type": "stream",
          "name": "stdout",
          "text": [
            "39229\n"
          ]
        }
      ]
    },
    {
      "cell_type": "code",
      "source": [
        "# PADDING\n",
        "\n",
        "for i in df2['num_window'].unique():\n",
        "    temp = df2[df2['num_window'] == i]\n",
        "    label = df2[df2['num_window'] == i]['classe'].iloc[0]\n",
        "    if(len(temp)<max_window):\n",
        "        rows_to_add = max_window - len(temp)\n",
        "        new = pd.DataFrame( np.zeros((rows_to_add, len(df2.columns))) , columns=df2.columns)\n",
        "        new['num_window'] = i\n",
        "        new['classe'] = label\n",
        "        df2 = df2.append(new).reset_index(drop=True)"
      ],
      "metadata": {
        "id": "A4yFqCY8q_8W"
      },
      "execution_count": null,
      "outputs": []
    },
    {
      "cell_type": "code",
      "source": [
        "print(len(df2))"
      ],
      "metadata": {
        "id": "Rxf30rfKuSJg",
        "outputId": "2edbb05b-b33c-4259-bc98-e5e2c46bc490",
        "colab": {
          "base_uri": "https://localhost:8080/"
        }
      },
      "execution_count": null,
      "outputs": [
        {
          "output_type": "stream",
          "name": "stdout",
          "text": [
            "62415\n"
          ]
        }
      ]
    },
    {
      "cell_type": "code",
      "source": [
        "def impute_classe(x):\n",
        "  if x == 'A':\n",
        "    return 5\n",
        "  elif x =='B':\n",
        "    return 4\n",
        "  elif x=='C':\n",
        "    return 3\n",
        "  elif x=='D':\n",
        "    return 2\n",
        "  elif x=='E':\n",
        "    return 1"
      ],
      "metadata": {
        "id": "_0gWHvYJl_P4"
      },
      "execution_count": null,
      "outputs": []
    },
    {
      "cell_type": "code",
      "source": [
        "df2['classe'] = df2['classe'].apply(impute_classe)"
      ],
      "metadata": {
        "id": "aPZRf7PTl_TX"
      },
      "execution_count": null,
      "outputs": []
    },
    {
      "cell_type": "code",
      "source": [
        "column_names = df2.drop(['classe','num_window'], axis=1).columns"
      ],
      "metadata": {
        "id": "wmPret0QtxHp"
      },
      "execution_count": null,
      "outputs": []
    },
    {
      "cell_type": "code",
      "source": [
        "# Preparing data for CNN\n",
        "\n",
        "global v_stacked\n",
        "global v_stacked_2\n",
        "window_size = dropping_threshold\n",
        "counter = 0\n",
        "v_stacked_2 = np.zeros((1,1))\n",
        "target_label = []\n",
        "for i in df2['num_window'].unique():\n",
        "    temp = df2[df2['num_window'] == i]\n",
        "    label = df2[df2['num_window'] == i]['classe'].iloc[0]    \n",
        "    v_stacked = np.zeros(shape=(1, 1))\n",
        "    for k in column_names:\n",
        "        temp2 = df2[df2['num_window'] == i][k].to_numpy()\n",
        "        #temp2 = temp2.reshape(-1,1)          \n",
        "        if v_stacked.shape[0] == 1 and v_stacked.shape[1] == 1:\n",
        "            v_stacked = temp2 \n",
        "        else:\n",
        "            v_stacked = np.dstack((v_stacked, temp2))   \n",
        "    target_label.append(label)        \n",
        "    if v_stacked_2.shape[0] == 1 and v_stacked_2.shape[1] == 1:\n",
        "        v_stacked_2 = v_stacked\n",
        "    else:\n",
        "        v_stacked_2 = np.vstack((v_stacked_2, v_stacked))"
      ],
      "metadata": {
        "id": "gFo76VYjl_Wj"
      },
      "execution_count": null,
      "outputs": []
    },
    {
      "cell_type": "code",
      "source": [
        "print(v_stacked_2.shape)"
      ],
      "metadata": {
        "colab": {
          "base_uri": "https://localhost:8080/"
        },
        "id": "f33M2bJNuLC0",
        "outputId": "58c9bebe-c273-49c1-d118-102a10152bc9"
      },
      "execution_count": null,
      "outputs": [
        {
          "output_type": "stream",
          "name": "stdout",
          "text": [
            "(855, 73, 26)\n"
          ]
        }
      ]
    },
    {
      "cell_type": "code",
      "source": [
        "print(v_stacked_2[0].shape)"
      ],
      "metadata": {
        "colab": {
          "base_uri": "https://localhost:8080/"
        },
        "id": "cIjRPUHxwlnd",
        "outputId": "0269400d-31f7-44dc-b362-e8e756d17962"
      },
      "execution_count": null,
      "outputs": [
        {
          "output_type": "stream",
          "name": "stdout",
          "text": [
            "(73, 26)\n"
          ]
        }
      ]
    },
    {
      "cell_type": "code",
      "source": [
        "print(len(target_label))"
      ],
      "metadata": {
        "colab": {
          "base_uri": "https://localhost:8080/"
        },
        "id": "34F1Wflzwhoq",
        "outputId": "81b07715-40e3-4cda-a708-8db85e400311"
      },
      "execution_count": null,
      "outputs": [
        {
          "output_type": "stream",
          "name": "stdout",
          "text": [
            "855\n"
          ]
        }
      ]
    },
    {
      "cell_type": "code",
      "source": [
        "target_label = to_categorical(target_label)"
      ],
      "metadata": {
        "id": "BRu1onjOyKMX"
      },
      "execution_count": null,
      "outputs": []
    },
    {
      "cell_type": "code",
      "source": [
        "trainX = v_stacked_2[0:780][:][:]\n",
        "print(trainX.shape)\n",
        "testX = v_stacked_2[780:-1][:][:]\n",
        "print(testX.shape)\n",
        "trainy = target_label[0:780][:][:]\n",
        "print(trainy.shape)\n",
        "testy = target_label[780:-1][:][:]\n",
        "print(testy.shape)"
      ],
      "metadata": {
        "colab": {
          "base_uri": "https://localhost:8080/"
        },
        "id": "KOar9vFxyQVo",
        "outputId": "4c433f31-4af6-41a4-8c1b-182b52880c6d"
      },
      "execution_count": null,
      "outputs": [
        {
          "output_type": "stream",
          "name": "stdout",
          "text": [
            "(780, 73, 26)\n",
            "(74, 73, 26)\n",
            "(780, 6)\n",
            "(74, 6)\n"
          ]
        }
      ]
    },
    {
      "cell_type": "code",
      "source": [
        "def evaluate_model(trainX, trainy, testX, testy):\n",
        "\tverbose, epochs, batch_size = 0, 80, 8\n",
        "\tn_timesteps, n_features, n_outputs = trainX.shape[1], trainX.shape[2], trainy.shape[1]\n",
        "\tmodel = Sequential()\n",
        "\tmodel.add(Conv1D(filters=6, kernel_size=3, activation='relu', padding='same',input_shape=(n_timesteps,n_features)))\n",
        "\tmodel.add(Conv1D(filters=9, kernel_size=3, activation='relu', padding='same'))\n",
        "\tmodel.add(Dropout(0.25))\n",
        "\tmodel.add(MaxPooling1D(pool_size=2))\n",
        "\tmodel.add(Conv1D(filters=12, kernel_size=3, activation='relu', padding='same'))\n",
        "\tmodel.add(LSTM(12, activation='relu'))\n",
        "\tmodel.add(Dropout(0.15))\n",
        "\tmodel.add(Flatten())\n",
        "\tmodel.add(Dense(400, activation='relu'))\n",
        "\tmodel.add(Dropout(0.10))\n",
        "\tmodel.add(Dense(700, activation='relu'))\n",
        "\tmodel.add(Dropout(0.15))\n",
        "\tmodel.add(Dense(1000, activation='relu'))\n",
        "\tmodel.add(Dropout(0.2))\n",
        "\tmodel.add(Dense(n_outputs, activation='softmax'))\n",
        "\tmodel.compile(loss='categorical_crossentropy', optimizer='adam', metrics=['accuracy'])\n",
        "\t# fit network\n",
        "\tmodel.fit(trainX, trainy, epochs=epochs, batch_size=batch_size, verbose=verbose)\n",
        "\t# evaluate model\n",
        "\t_, accuracy = model.evaluate(testX, testy, batch_size=batch_size, verbose=0)\n",
        "\treturn accuracy"
      ],
      "metadata": {
        "id": "wpx0e0MnyqTh"
      },
      "execution_count": null,
      "outputs": []
    },
    {
      "cell_type": "code",
      "source": [
        "def summarize_results(scores):\n",
        "\tprint(scores)\n",
        "\tm, s = mean(scores), std(scores)\n",
        "\tprint('Accuracy: %.3f%% (+/-%.3f)' % (m, s))"
      ],
      "metadata": {
        "id": "GRztIVjIysai"
      },
      "execution_count": null,
      "outputs": []
    },
    {
      "cell_type": "code",
      "source": [
        "def run_experiment(repeats=10):\n",
        "\tscores = list()\n",
        "\tfor r in range(repeats):\n",
        "\t\tscore = evaluate_model(trainX, trainy, testX, testy)\n",
        "\t\tscore = score * 100.0\n",
        "\t\tprint('>#%d: %.3f' % (r+1, score))\n",
        "\t\tscores.append(score)\n",
        "\t# summarize results\n",
        "\tsummarize_results(scores)"
      ],
      "metadata": {
        "id": "zlVb6Kxgy2sB"
      },
      "execution_count": null,
      "outputs": []
    },
    {
      "cell_type": "code",
      "source": [
        "run_experiment()"
      ],
      "metadata": {
        "id": "nX6MAcPfy57b",
        "colab": {
          "base_uri": "https://localhost:8080/"
        },
        "outputId": "6e1b5892-516d-4072-b317-246915bc8f45"
      },
      "execution_count": null,
      "outputs": [
        {
          "output_type": "stream",
          "name": "stdout",
          "text": [
            ">#1: 28.378\n",
            ">#2: 17.568\n",
            ">#3: 24.324\n",
            ">#4: 22.973\n",
            ">#5: 24.324\n",
            ">#6: 21.622\n",
            ">#7: 41.892\n",
            ">#8: 33.784\n",
            ">#9: 40.541\n",
            ">#10: 39.189\n",
            "[28.378379344940186, 17.56756752729416, 24.32432472705841, 22.972972691059113, 24.32432472705841, 21.621622145175934, 41.89189076423645, 33.78378450870514, 40.54054021835327, 39.18918967247009]\n",
            "Accuracy: 29.459% (+/-8.304)\n"
          ]
        }
      ]
    },
    {
      "cell_type": "code",
      "source": [],
      "metadata": {
        "id": "hr5jyQ-hyBvr"
      },
      "execution_count": null,
      "outputs": []
    }
  ]
}