{
  "nbformat": 4,
  "nbformat_minor": 0,
  "metadata": {
    "colab": {
      "name": "PR Checkpoint2.ipynb",
      "provenance": [],
      "collapsed_sections": []
    },
    "kernelspec": {
      "name": "python3",
      "display_name": "Python 3"
    },
    "language_info": {
      "name": "python"
    }
  },
  "cells": [
    {
      "cell_type": "markdown",
      "source": [
        "## Importing Library"
      ],
      "metadata": {
        "id": "_3mWhU59cbu-"
      }
    },
    {
      "cell_type": "code",
      "source": [
        "import pandas as pd  \n",
        "import seaborn as sns  \n",
        "import numpy as np  \n",
        "import matplotlib.pyplot as plt"
      ],
      "metadata": {
        "id": "M7Wt9qDEPaHT"
      },
      "execution_count": null,
      "outputs": []
    },
    {
      "cell_type": "code",
      "execution_count": null,
      "metadata": {
        "colab": {
          "base_uri": "https://localhost:8080/"
        },
        "id": "5P3PfNvqOwd_",
        "outputId": "73114e26-08c1-4164-c54a-845995965d33"
      },
      "outputs": [
        {
          "output_type": "stream",
          "name": "stdout",
          "text": [
            "Drive already mounted at /content/drive; to attempt to forcibly remount, call drive.mount(\"/content/drive\", force_remount=True).\n"
          ]
        }
      ],
      "source": [
        "from google.colab import drive\n",
        "drive.mount('/content/drive')"
      ]
    },
    {
      "cell_type": "code",
      "source": [
        "cd'/content/drive/MyDrive/Colab Notebooks/Dataset/Softcom Assignment 1'"
      ],
      "metadata": {
        "colab": {
          "base_uri": "https://localhost:8080/"
        },
        "id": "okeTIYSDPHu0",
        "outputId": "1a356485-fe7a-40bf-d4c8-2193b2025139"
      },
      "execution_count": null,
      "outputs": [
        {
          "output_type": "stream",
          "name": "stdout",
          "text": [
            "/content/drive/MyDrive/Colab Notebooks/Dataset/Softcom Assignment 1\n"
          ]
        }
      ]
    },
    {
      "cell_type": "markdown",
      "source": [
        "## Loading Data"
      ],
      "metadata": {
        "id": "DGfB74Tzcnf8"
      }
    },
    {
      "cell_type": "code",
      "source": [
        "#df = pd.read_excel('pml-training.xlsx', index_col=False).drop('Row Number', axis=1).reset_index(drop=True)\n",
        "load = pd.read_excel('exercise_full_dataset.xlsx').reset_index(drop=True)"
      ],
      "metadata": {
        "id": "jJBRdeciPIAx"
      },
      "execution_count": null,
      "outputs": []
    },
    {
      "cell_type": "code",
      "source": [
        "df = load.copy()"
      ],
      "metadata": {
        "id": "duAFd84NQqyz"
      },
      "execution_count": null,
      "outputs": []
    },
    {
      "cell_type": "code",
      "source": [
        "print('Column Name', '  No of Missing Values')\n",
        "for i in zip(df.columns, df.isna().sum()):\n",
        "  print(i[0], '\\t\\t', i[1])"
      ],
      "metadata": {
        "colab": {
          "base_uri": "https://localhost:8080/"
        },
        "id": "TxLCUVzRhAUx",
        "outputId": "383005b2-4c3c-4bbb-bc99-eb11a25a97d0"
      },
      "execution_count": null,
      "outputs": [
        {
          "output_type": "stream",
          "name": "stdout",
          "text": [
            "Column Name   No of Missing Values\n",
            "user_name \t\t 0\n",
            "raw_timestamp_part_1 \t\t 0\n",
            "raw_timestamp_part_2 \t\t 0\n",
            "cvtd_timestamp \t\t 0\n",
            "new_window \t\t 0\n",
            "num_window \t\t 0\n",
            "roll_belt \t\t 0\n",
            "pitch_belt \t\t 0\n",
            "yaw_belt \t\t 0\n",
            "total_accel_belt \t\t 0\n",
            "kurtosis_roll_belt \t\t 38435\n",
            "kurtosis_picth_belt \t\t 38475\n",
            "kurtosis_yaw_belt \t\t 39241\n",
            "skewness_roll_belt \t\t 38434\n",
            "skewness_pitch_belt \t\t 38475\n",
            "skewness_yaw_belt \t\t 39242\n",
            "max_roll_belt \t\t 38403\n",
            "max_picth_belt \t\t 38403\n",
            "max_yaw_belt \t\t 38435\n",
            "min_roll_belt \t\t 38403\n",
            "min_pitch_belt \t\t 38403\n",
            "min_yaw_belt \t\t 38435\n",
            "amplitude_roll_belt \t\t 38403\n",
            "amplitude_pitch_belt \t\t 38403\n",
            "amplitude_yaw_belt \t\t 38435\n",
            "var_total_accel_belt \t\t 38403\n",
            "avg_roll_belt \t\t 38402\n",
            "stddev_roll_belt \t\t 38403\n",
            "var_roll_belt \t\t 38403\n",
            "avg_pitch_belt \t\t 38403\n",
            "stddev_pitch_belt \t\t 38403\n",
            "var_pitch_belt \t\t 38403\n",
            "avg_yaw_belt \t\t 38403\n",
            "stddev_yaw_belt \t\t 38403\n",
            "var_yaw_belt \t\t 38403\n",
            "gyros_belt_x \t\t 0\n",
            "gyros_belt_y \t\t 0\n",
            "gyros_belt_z \t\t 0\n",
            "accel_belt_x \t\t 0\n",
            "accel_belt_y \t\t 0\n",
            "accel_belt_z \t\t 0\n",
            "magnet_belt_x \t\t 0\n",
            "magnet_belt_y \t\t 0\n",
            "magnet_belt_z \t\t 0\n",
            "roll_arm \t\t 0\n",
            "pitch_arm \t\t 0\n",
            "yaw_arm \t\t 0\n",
            "total_accel_arm \t\t 0\n",
            "var_accel_arm \t\t 38403\n",
            "avg_roll_arm \t\t 38403\n",
            "stddev_roll_arm \t\t 38403\n",
            "var_roll_arm \t\t 38403\n",
            "avg_pitch_arm \t\t 38403\n",
            "stddev_pitch_arm \t\t 38403\n",
            "var_pitch_arm \t\t 38403\n",
            "avg_yaw_arm \t\t 38403\n",
            "stddev_yaw_arm \t\t 38403\n",
            "var_yaw_arm \t\t 38403\n",
            "gyros_arm_x \t\t 0\n",
            "gyros_arm_y \t\t 0\n",
            "gyros_arm_z \t\t 0\n",
            "accel_arm_x \t\t 0\n",
            "accel_arm_y \t\t 0\n",
            "accel_arm_z \t\t 0\n",
            "magnet_arm_x \t\t 0\n",
            "magnet_arm_y \t\t 0\n",
            "magnet_arm_z \t\t 0\n",
            "kurtosis_roll_arm \t\t 38548\n",
            "kurtosis_picth_arm \t\t 38554\n",
            "kurtosis_yaw_arm \t\t 38431\n",
            "skewness_roll_arm \t\t 38547\n",
            "skewness_pitch_arm \t\t 38554\n",
            "skewness_yaw_arm \t\t 38431\n",
            "max_roll_arm \t\t 38403\n",
            "max_picth_arm \t\t 38403\n",
            "max_yaw_arm \t\t 38403\n",
            "min_roll_arm \t\t 38403\n",
            "min_pitch_arm \t\t 38403\n",
            "min_yaw_arm \t\t 38403\n",
            "amplitude_roll_arm \t\t 38403\n",
            "amplitude_pitch_arm \t\t 38403\n",
            "amplitude_yaw_arm \t\t 38403\n",
            "roll_dumbbell \t\t 1\n",
            "pitch_dumbbell \t\t 0\n",
            "yaw_dumbbell \t\t 0\n",
            "kurtosis_roll_dumbbell \t\t 38412\n",
            "kurtosis_picth_dumbbell \t\t 38407\n",
            "kurtosis_yaw_dumbbell \t\t 39242\n",
            "skewness_roll_dumbbell \t\t 38411\n",
            "skewness_pitch_dumbbell \t\t 38406\n",
            "skewness_yaw_dumbbell \t\t 39242\n",
            "max_roll_dumbbell \t\t 38403\n",
            "max_picth_dumbbell \t\t 38403\n",
            "max_yaw_dumbbell \t\t 38412\n",
            "min_roll_dumbbell \t\t 38403\n",
            "min_pitch_dumbbell \t\t 38403\n",
            "min_yaw_dumbbell \t\t 38412\n",
            "amplitude_roll_dumbbell \t\t 38403\n",
            "amplitude_pitch_dumbbell \t\t 38403\n",
            "amplitude_yaw_dumbbell \t\t 38412\n",
            "total_accel_dumbbell \t\t 0\n",
            "var_accel_dumbbell \t\t 38403\n",
            "avg_roll_dumbbell \t\t 38403\n",
            "stddev_roll_dumbbell \t\t 38403\n",
            "var_roll_dumbbell \t\t 38403\n",
            "avg_pitch_dumbbell \t\t 38403\n",
            "stddev_pitch_dumbbell \t\t 38403\n",
            "var_pitch_dumbbell \t\t 38403\n",
            "avg_yaw_dumbbell \t\t 38403\n",
            "stddev_yaw_dumbbell \t\t 38403\n",
            "var_yaw_dumbbell \t\t 38403\n",
            "gyros_dumbbell_x \t\t 0\n",
            "gyros_dumbbell_y \t\t 0\n",
            "gyros_dumbbell_z \t\t 0\n",
            "accel_dumbbell_x \t\t 0\n",
            "accel_dumbbell_y \t\t 0\n",
            "accel_dumbbell_z \t\t 0\n",
            "magnet_dumbbell_x \t\t 0\n",
            "magnet_dumbbell_y \t\t 0\n",
            "magnet_dumbbell_z \t\t 0\n",
            "roll_forearm \t\t 0\n",
            "pitch_forearm \t\t 0\n",
            "yaw_forearm \t\t 0\n",
            "kurtosis_roll_forearm \t\t 38581\n",
            "kurtosis_picth_forearm \t\t 38584\n",
            "kurtosis_yaw_forearm \t\t 39242\n",
            "skewness_roll_forearm \t\t 38580\n",
            "skewness_pitch_forearm \t\t 38584\n",
            "skewness_yaw_forearm \t\t 39242\n",
            "max_roll_forearm \t\t 38403\n",
            "max_picth_forearm \t\t 38403\n",
            "max_yaw_forearm \t\t 38581\n",
            "min_roll_forearm \t\t 38403\n",
            "min_pitch_forearm \t\t 38403\n",
            "min_yaw_forearm \t\t 38581\n",
            "amplitude_roll_forearm \t\t 38403\n",
            "amplitude_pitch_forearm \t\t 38403\n",
            "amplitude_yaw_forearm \t\t 38581\n",
            "total_accel_forearm \t\t 0\n",
            "var_accel_forearm \t\t 38403\n",
            "avg_roll_forearm \t\t 38403\n",
            "stddev_roll_forearm \t\t 38403\n",
            "var_roll_forearm \t\t 38403\n",
            "avg_pitch_forearm \t\t 38403\n",
            "stddev_pitch_forearm \t\t 38403\n",
            "var_pitch_forearm \t\t 38403\n",
            "avg_yaw_forearm \t\t 38403\n",
            "stddev_yaw_forearm \t\t 38403\n",
            "var_yaw_forearm \t\t 38403\n",
            "gyros_forearm_x \t\t 0\n",
            "gyros_forearm_y \t\t 0\n",
            "gyros_forearm_z \t\t 0\n",
            "accel_forearm_x \t\t 0\n",
            "accel_forearm_y \t\t 0\n",
            "accel_forearm_z \t\t 0\n",
            "magnet_forearm_x \t\t 0\n",
            "magnet_forearm_y \t\t 0\n",
            "magnet_forearm_z \t\t 0\n",
            "classe \t\t 0\n"
          ]
        }
      ]
    },
    {
      "cell_type": "code",
      "source": [
        "df.head(3)"
      ],
      "metadata": {
        "colab": {
          "base_uri": "https://localhost:8080/",
          "height": 237
        },
        "id": "yseeHJMxPkjW",
        "outputId": "6fa90c24-5832-446b-cb87-0d563d278364"
      },
      "execution_count": null,
      "outputs": [
        {
          "output_type": "execute_result",
          "data": {
            "text/plain": [
              "  user_name  raw_timestamp_part_1  raw_timestamp_part_2    cvtd_timestamp  \\\n",
              "0    eurico          1.322490e+09               34670.0  28/11/2011 14:15   \n",
              "1    eurico          1.322490e+09               62641.0  28/11/2011 14:15   \n",
              "2    eurico          1.322490e+09               70653.0  28/11/2011 14:15   \n",
              "\n",
              "  new_window  num_window  roll_belt  pitch_belt  yaw_belt  total_accel_belt  \\\n",
              "0         no         1.0       3.70        41.6     -82.8               3.0   \n",
              "1         no         1.0       3.66        42.8     -82.5               2.0   \n",
              "2         no         1.0       3.58        43.7     -82.3               1.0   \n",
              "\n",
              "   ...  gyros_forearm_x  gyros_forearm_y gyros_forearm_z  accel_forearm_x  \\\n",
              "0  ...            -0.05            -0.37           -0.43           -170.0   \n",
              "1  ...            -0.06            -0.37           -0.59           -178.0   \n",
              "2  ...            -0.05            -0.27           -0.72           -182.0   \n",
              "\n",
              "   accel_forearm_y  accel_forearm_z  magnet_forearm_x  magnet_forearm_y  \\\n",
              "0            155.0            184.0           -1160.0            1400.0   \n",
              "1            164.0            182.0           -1150.0            1410.0   \n",
              "2            172.0            185.0           -1130.0            1400.0   \n",
              "\n",
              "   magnet_forearm_z  classe  \n",
              "0            -876.0       E  \n",
              "1            -871.0       E  \n",
              "2            -863.0       E  \n",
              "\n",
              "[3 rows x 159 columns]"
            ],
            "text/html": [
              "\n",
              "  <div id=\"df-2f195b15-b58f-426f-ad3f-39d15d86b86a\">\n",
              "    <div class=\"colab-df-container\">\n",
              "      <div>\n",
              "<style scoped>\n",
              "    .dataframe tbody tr th:only-of-type {\n",
              "        vertical-align: middle;\n",
              "    }\n",
              "\n",
              "    .dataframe tbody tr th {\n",
              "        vertical-align: top;\n",
              "    }\n",
              "\n",
              "    .dataframe thead th {\n",
              "        text-align: right;\n",
              "    }\n",
              "</style>\n",
              "<table border=\"1\" class=\"dataframe\">\n",
              "  <thead>\n",
              "    <tr style=\"text-align: right;\">\n",
              "      <th></th>\n",
              "      <th>user_name</th>\n",
              "      <th>raw_timestamp_part_1</th>\n",
              "      <th>raw_timestamp_part_2</th>\n",
              "      <th>cvtd_timestamp</th>\n",
              "      <th>new_window</th>\n",
              "      <th>num_window</th>\n",
              "      <th>roll_belt</th>\n",
              "      <th>pitch_belt</th>\n",
              "      <th>yaw_belt</th>\n",
              "      <th>total_accel_belt</th>\n",
              "      <th>...</th>\n",
              "      <th>gyros_forearm_x</th>\n",
              "      <th>gyros_forearm_y</th>\n",
              "      <th>gyros_forearm_z</th>\n",
              "      <th>accel_forearm_x</th>\n",
              "      <th>accel_forearm_y</th>\n",
              "      <th>accel_forearm_z</th>\n",
              "      <th>magnet_forearm_x</th>\n",
              "      <th>magnet_forearm_y</th>\n",
              "      <th>magnet_forearm_z</th>\n",
              "      <th>classe</th>\n",
              "    </tr>\n",
              "  </thead>\n",
              "  <tbody>\n",
              "    <tr>\n",
              "      <th>0</th>\n",
              "      <td>eurico</td>\n",
              "      <td>1.322490e+09</td>\n",
              "      <td>34670.0</td>\n",
              "      <td>28/11/2011 14:15</td>\n",
              "      <td>no</td>\n",
              "      <td>1.0</td>\n",
              "      <td>3.70</td>\n",
              "      <td>41.6</td>\n",
              "      <td>-82.8</td>\n",
              "      <td>3.0</td>\n",
              "      <td>...</td>\n",
              "      <td>-0.05</td>\n",
              "      <td>-0.37</td>\n",
              "      <td>-0.43</td>\n",
              "      <td>-170.0</td>\n",
              "      <td>155.0</td>\n",
              "      <td>184.0</td>\n",
              "      <td>-1160.0</td>\n",
              "      <td>1400.0</td>\n",
              "      <td>-876.0</td>\n",
              "      <td>E</td>\n",
              "    </tr>\n",
              "    <tr>\n",
              "      <th>1</th>\n",
              "      <td>eurico</td>\n",
              "      <td>1.322490e+09</td>\n",
              "      <td>62641.0</td>\n",
              "      <td>28/11/2011 14:15</td>\n",
              "      <td>no</td>\n",
              "      <td>1.0</td>\n",
              "      <td>3.66</td>\n",
              "      <td>42.8</td>\n",
              "      <td>-82.5</td>\n",
              "      <td>2.0</td>\n",
              "      <td>...</td>\n",
              "      <td>-0.06</td>\n",
              "      <td>-0.37</td>\n",
              "      <td>-0.59</td>\n",
              "      <td>-178.0</td>\n",
              "      <td>164.0</td>\n",
              "      <td>182.0</td>\n",
              "      <td>-1150.0</td>\n",
              "      <td>1410.0</td>\n",
              "      <td>-871.0</td>\n",
              "      <td>E</td>\n",
              "    </tr>\n",
              "    <tr>\n",
              "      <th>2</th>\n",
              "      <td>eurico</td>\n",
              "      <td>1.322490e+09</td>\n",
              "      <td>70653.0</td>\n",
              "      <td>28/11/2011 14:15</td>\n",
              "      <td>no</td>\n",
              "      <td>1.0</td>\n",
              "      <td>3.58</td>\n",
              "      <td>43.7</td>\n",
              "      <td>-82.3</td>\n",
              "      <td>1.0</td>\n",
              "      <td>...</td>\n",
              "      <td>-0.05</td>\n",
              "      <td>-0.27</td>\n",
              "      <td>-0.72</td>\n",
              "      <td>-182.0</td>\n",
              "      <td>172.0</td>\n",
              "      <td>185.0</td>\n",
              "      <td>-1130.0</td>\n",
              "      <td>1400.0</td>\n",
              "      <td>-863.0</td>\n",
              "      <td>E</td>\n",
              "    </tr>\n",
              "  </tbody>\n",
              "</table>\n",
              "<p>3 rows × 159 columns</p>\n",
              "</div>\n",
              "      <button class=\"colab-df-convert\" onclick=\"convertToInteractive('df-2f195b15-b58f-426f-ad3f-39d15d86b86a')\"\n",
              "              title=\"Convert this dataframe to an interactive table.\"\n",
              "              style=\"display:none;\">\n",
              "        \n",
              "  <svg xmlns=\"http://www.w3.org/2000/svg\" height=\"24px\"viewBox=\"0 0 24 24\"\n",
              "       width=\"24px\">\n",
              "    <path d=\"M0 0h24v24H0V0z\" fill=\"none\"/>\n",
              "    <path d=\"M18.56 5.44l.94 2.06.94-2.06 2.06-.94-2.06-.94-.94-2.06-.94 2.06-2.06.94zm-11 1L8.5 8.5l.94-2.06 2.06-.94-2.06-.94L8.5 2.5l-.94 2.06-2.06.94zm10 10l.94 2.06.94-2.06 2.06-.94-2.06-.94-.94-2.06-.94 2.06-2.06.94z\"/><path d=\"M17.41 7.96l-1.37-1.37c-.4-.4-.92-.59-1.43-.59-.52 0-1.04.2-1.43.59L10.3 9.45l-7.72 7.72c-.78.78-.78 2.05 0 2.83L4 21.41c.39.39.9.59 1.41.59.51 0 1.02-.2 1.41-.59l7.78-7.78 2.81-2.81c.8-.78.8-2.07 0-2.86zM5.41 20L4 18.59l7.72-7.72 1.47 1.35L5.41 20z\"/>\n",
              "  </svg>\n",
              "      </button>\n",
              "      \n",
              "  <style>\n",
              "    .colab-df-container {\n",
              "      display:flex;\n",
              "      flex-wrap:wrap;\n",
              "      gap: 12px;\n",
              "    }\n",
              "\n",
              "    .colab-df-convert {\n",
              "      background-color: #E8F0FE;\n",
              "      border: none;\n",
              "      border-radius: 50%;\n",
              "      cursor: pointer;\n",
              "      display: none;\n",
              "      fill: #1967D2;\n",
              "      height: 32px;\n",
              "      padding: 0 0 0 0;\n",
              "      width: 32px;\n",
              "    }\n",
              "\n",
              "    .colab-df-convert:hover {\n",
              "      background-color: #E2EBFA;\n",
              "      box-shadow: 0px 1px 2px rgba(60, 64, 67, 0.3), 0px 1px 3px 1px rgba(60, 64, 67, 0.15);\n",
              "      fill: #174EA6;\n",
              "    }\n",
              "\n",
              "    [theme=dark] .colab-df-convert {\n",
              "      background-color: #3B4455;\n",
              "      fill: #D2E3FC;\n",
              "    }\n",
              "\n",
              "    [theme=dark] .colab-df-convert:hover {\n",
              "      background-color: #434B5C;\n",
              "      box-shadow: 0px 1px 3px 1px rgba(0, 0, 0, 0.15);\n",
              "      filter: drop-shadow(0px 1px 2px rgba(0, 0, 0, 0.3));\n",
              "      fill: #FFFFFF;\n",
              "    }\n",
              "  </style>\n",
              "\n",
              "      <script>\n",
              "        const buttonEl =\n",
              "          document.querySelector('#df-2f195b15-b58f-426f-ad3f-39d15d86b86a button.colab-df-convert');\n",
              "        buttonEl.style.display =\n",
              "          google.colab.kernel.accessAllowed ? 'block' : 'none';\n",
              "\n",
              "        async function convertToInteractive(key) {\n",
              "          const element = document.querySelector('#df-2f195b15-b58f-426f-ad3f-39d15d86b86a');\n",
              "          const dataTable =\n",
              "            await google.colab.kernel.invokeFunction('convertToInteractive',\n",
              "                                                     [key], {});\n",
              "          if (!dataTable) return;\n",
              "\n",
              "          const docLinkHtml = 'Like what you see? Visit the ' +\n",
              "            '<a target=\"_blank\" href=https://colab.research.google.com/notebooks/data_table.ipynb>data table notebook</a>'\n",
              "            + ' to learn more about interactive tables.';\n",
              "          element.innerHTML = '';\n",
              "          dataTable['output_type'] = 'display_data';\n",
              "          await google.colab.output.renderOutput(dataTable, element);\n",
              "          const docLink = document.createElement('div');\n",
              "          docLink.innerHTML = docLinkHtml;\n",
              "          element.appendChild(docLink);\n",
              "        }\n",
              "      </script>\n",
              "    </div>\n",
              "  </div>\n",
              "  "
            ]
          },
          "metadata": {},
          "execution_count": 375
        }
      ]
    },
    {
      "cell_type": "code",
      "source": [
        "df.info()"
      ],
      "metadata": {
        "colab": {
          "base_uri": "https://localhost:8080/"
        },
        "id": "qOqo8wtFQSPi",
        "outputId": "e2ccbb3a-4cc4-4a85-f696-ca05a09b350c"
      },
      "execution_count": null,
      "outputs": [
        {
          "output_type": "stream",
          "name": "stdout",
          "text": [
            "<class 'pandas.core.frame.DataFrame'>\n",
            "RangeIndex: 39242 entries, 0 to 39241\n",
            "Columns: 159 entries, user_name to classe\n",
            "dtypes: float64(154), object(5)\n",
            "memory usage: 47.6+ MB\n"
          ]
        }
      ]
    },
    {
      "cell_type": "code",
      "source": [
        "df.describe()"
      ],
      "metadata": {
        "colab": {
          "base_uri": "https://localhost:8080/",
          "height": 393
        },
        "id": "z1bJ9R_3QVEz",
        "outputId": "6c5b18d6-c7de-4d95-dbf3-b9ed73a2b6c8"
      },
      "execution_count": null,
      "outputs": [
        {
          "output_type": "execute_result",
          "data": {
            "text/plain": [
              "       raw_timestamp_part_1  raw_timestamp_part_2    num_window     roll_belt  \\\n",
              "count          3.924200e+04          39242.000000  39242.000000  39242.000000   \n",
              "mean           1.322827e+09         500708.627465    432.322282     64.928120   \n",
              "std            2.040334e+05         288682.935235    247.966725     62.672987   \n",
              "min            1.322490e+09            280.000000      1.000000    -28.900000   \n",
              "25%            1.322673e+09         252299.500000    222.000000      1.100000   \n",
              "50%            1.322833e+09         498781.500000    428.000000    114.000000   \n",
              "75%            1.323084e+09         752287.750000    647.000000    123.000000   \n",
              "max            1.323095e+09         999091.000000    864.000000    162.000000   \n",
              "\n",
              "         pitch_belt      yaw_belt  total_accel_belt  kurtosis_roll_belt  \\\n",
              "count  39242.000000  39242.000000      39242.000000          807.000000   \n",
              "mean       0.423624    -10.827983         11.378982           -0.181088   \n",
              "std       22.400539     94.982455          7.732219            3.739289   \n",
              "min      -56.200000   -180.000000          0.000000           -3.333333   \n",
              "25%        1.830000    -88.200000          3.000000           -1.346611   \n",
              "50%        5.320000    -11.900000         17.000000           -0.907946   \n",
              "75%       15.500000     12.500000         18.000000           -0.282445   \n",
              "max       60.300000    180.000000         30.000000           50.979819   \n",
              "\n",
              "       kurtosis_picth_belt  skewness_roll_belt  ...  var_yaw_forearm  \\\n",
              "count           767.000000          808.000000  ...       839.000000   \n",
              "mean              4.533324           -0.029880  ...      4702.779079   \n",
              "std              11.328069            0.976761  ...      7224.874200   \n",
              "min              -2.210526           -7.139350  ...         0.000000   \n",
              "25%              -1.079763           -0.465135  ...         0.251195   \n",
              "50%              -0.021887            0.005367  ...       606.510220   \n",
              "75%               4.148419            0.421581  ...      7648.713645   \n",
              "max              71.000000            6.633250  ...     39009.333330   \n",
              "\n",
              "       gyros_forearm_x  gyros_forearm_y  gyros_forearm_z  accel_forearm_x  \\\n",
              "count     39242.000000     39242.000000     39242.000000     39242.000000   \n",
              "mean          0.146381         0.095838         0.147643       -63.954814   \n",
              "std           1.827178         3.735124         1.337704       180.940999   \n",
              "min        -339.000000        -7.030000       -52.000000      -498.000000   \n",
              "25%          -0.220000        -1.450000        -0.180000      -181.000000   \n",
              "50%           0.050000         0.030000         0.080000       -58.000000   \n",
              "75%           0.560000         1.650000         0.490000        74.000000   \n",
              "max           4.770000       516.000000       231.000000       479.000000   \n",
              "\n",
              "       accel_forearm_y  accel_forearm_z  magnet_forearm_x  magnet_forearm_y  \\\n",
              "count     39242.000000     39242.000000      39242.000000      39242.000000   \n",
              "mean        162.981005       -55.494751       -316.640326        379.762296   \n",
              "std         199.580505       137.692832        345.893844        507.055260   \n",
              "min        -690.000000      -458.000000      -1280.000000       -906.000000   \n",
              "25%          53.000000      -181.000000       -620.000000          8.000000   \n",
              "50%         200.000000       -40.500000       -385.000000        588.000000   \n",
              "75%         312.000000        25.000000        -77.000000        736.000000   \n",
              "max         923.000000       291.000000        672.000000       1480.000000   \n",
              "\n",
              "       magnet_forearm_z  \n",
              "count      39242.000000  \n",
              "mean         395.010309  \n",
              "std          368.098954  \n",
              "min         -973.000000  \n",
              "25%          200.000000  \n",
              "50%          512.000000  \n",
              "75%          652.000000  \n",
              "max         1090.000000  \n",
              "\n",
              "[8 rows x 154 columns]"
            ],
            "text/html": [
              "\n",
              "  <div id=\"df-1e02a9e5-8e1c-4597-b122-7443bc9a4460\">\n",
              "    <div class=\"colab-df-container\">\n",
              "      <div>\n",
              "<style scoped>\n",
              "    .dataframe tbody tr th:only-of-type {\n",
              "        vertical-align: middle;\n",
              "    }\n",
              "\n",
              "    .dataframe tbody tr th {\n",
              "        vertical-align: top;\n",
              "    }\n",
              "\n",
              "    .dataframe thead th {\n",
              "        text-align: right;\n",
              "    }\n",
              "</style>\n",
              "<table border=\"1\" class=\"dataframe\">\n",
              "  <thead>\n",
              "    <tr style=\"text-align: right;\">\n",
              "      <th></th>\n",
              "      <th>raw_timestamp_part_1</th>\n",
              "      <th>raw_timestamp_part_2</th>\n",
              "      <th>num_window</th>\n",
              "      <th>roll_belt</th>\n",
              "      <th>pitch_belt</th>\n",
              "      <th>yaw_belt</th>\n",
              "      <th>total_accel_belt</th>\n",
              "      <th>kurtosis_roll_belt</th>\n",
              "      <th>kurtosis_picth_belt</th>\n",
              "      <th>skewness_roll_belt</th>\n",
              "      <th>...</th>\n",
              "      <th>var_yaw_forearm</th>\n",
              "      <th>gyros_forearm_x</th>\n",
              "      <th>gyros_forearm_y</th>\n",
              "      <th>gyros_forearm_z</th>\n",
              "      <th>accel_forearm_x</th>\n",
              "      <th>accel_forearm_y</th>\n",
              "      <th>accel_forearm_z</th>\n",
              "      <th>magnet_forearm_x</th>\n",
              "      <th>magnet_forearm_y</th>\n",
              "      <th>magnet_forearm_z</th>\n",
              "    </tr>\n",
              "  </thead>\n",
              "  <tbody>\n",
              "    <tr>\n",
              "      <th>count</th>\n",
              "      <td>3.924200e+04</td>\n",
              "      <td>39242.000000</td>\n",
              "      <td>39242.000000</td>\n",
              "      <td>39242.000000</td>\n",
              "      <td>39242.000000</td>\n",
              "      <td>39242.000000</td>\n",
              "      <td>39242.000000</td>\n",
              "      <td>807.000000</td>\n",
              "      <td>767.000000</td>\n",
              "      <td>808.000000</td>\n",
              "      <td>...</td>\n",
              "      <td>839.000000</td>\n",
              "      <td>39242.000000</td>\n",
              "      <td>39242.000000</td>\n",
              "      <td>39242.000000</td>\n",
              "      <td>39242.000000</td>\n",
              "      <td>39242.000000</td>\n",
              "      <td>39242.000000</td>\n",
              "      <td>39242.000000</td>\n",
              "      <td>39242.000000</td>\n",
              "      <td>39242.000000</td>\n",
              "    </tr>\n",
              "    <tr>\n",
              "      <th>mean</th>\n",
              "      <td>1.322827e+09</td>\n",
              "      <td>500708.627465</td>\n",
              "      <td>432.322282</td>\n",
              "      <td>64.928120</td>\n",
              "      <td>0.423624</td>\n",
              "      <td>-10.827983</td>\n",
              "      <td>11.378982</td>\n",
              "      <td>-0.181088</td>\n",
              "      <td>4.533324</td>\n",
              "      <td>-0.029880</td>\n",
              "      <td>...</td>\n",
              "      <td>4702.779079</td>\n",
              "      <td>0.146381</td>\n",
              "      <td>0.095838</td>\n",
              "      <td>0.147643</td>\n",
              "      <td>-63.954814</td>\n",
              "      <td>162.981005</td>\n",
              "      <td>-55.494751</td>\n",
              "      <td>-316.640326</td>\n",
              "      <td>379.762296</td>\n",
              "      <td>395.010309</td>\n",
              "    </tr>\n",
              "    <tr>\n",
              "      <th>std</th>\n",
              "      <td>2.040334e+05</td>\n",
              "      <td>288682.935235</td>\n",
              "      <td>247.966725</td>\n",
              "      <td>62.672987</td>\n",
              "      <td>22.400539</td>\n",
              "      <td>94.982455</td>\n",
              "      <td>7.732219</td>\n",
              "      <td>3.739289</td>\n",
              "      <td>11.328069</td>\n",
              "      <td>0.976761</td>\n",
              "      <td>...</td>\n",
              "      <td>7224.874200</td>\n",
              "      <td>1.827178</td>\n",
              "      <td>3.735124</td>\n",
              "      <td>1.337704</td>\n",
              "      <td>180.940999</td>\n",
              "      <td>199.580505</td>\n",
              "      <td>137.692832</td>\n",
              "      <td>345.893844</td>\n",
              "      <td>507.055260</td>\n",
              "      <td>368.098954</td>\n",
              "    </tr>\n",
              "    <tr>\n",
              "      <th>min</th>\n",
              "      <td>1.322490e+09</td>\n",
              "      <td>280.000000</td>\n",
              "      <td>1.000000</td>\n",
              "      <td>-28.900000</td>\n",
              "      <td>-56.200000</td>\n",
              "      <td>-180.000000</td>\n",
              "      <td>0.000000</td>\n",
              "      <td>-3.333333</td>\n",
              "      <td>-2.210526</td>\n",
              "      <td>-7.139350</td>\n",
              "      <td>...</td>\n",
              "      <td>0.000000</td>\n",
              "      <td>-339.000000</td>\n",
              "      <td>-7.030000</td>\n",
              "      <td>-52.000000</td>\n",
              "      <td>-498.000000</td>\n",
              "      <td>-690.000000</td>\n",
              "      <td>-458.000000</td>\n",
              "      <td>-1280.000000</td>\n",
              "      <td>-906.000000</td>\n",
              "      <td>-973.000000</td>\n",
              "    </tr>\n",
              "    <tr>\n",
              "      <th>25%</th>\n",
              "      <td>1.322673e+09</td>\n",
              "      <td>252299.500000</td>\n",
              "      <td>222.000000</td>\n",
              "      <td>1.100000</td>\n",
              "      <td>1.830000</td>\n",
              "      <td>-88.200000</td>\n",
              "      <td>3.000000</td>\n",
              "      <td>-1.346611</td>\n",
              "      <td>-1.079763</td>\n",
              "      <td>-0.465135</td>\n",
              "      <td>...</td>\n",
              "      <td>0.251195</td>\n",
              "      <td>-0.220000</td>\n",
              "      <td>-1.450000</td>\n",
              "      <td>-0.180000</td>\n",
              "      <td>-181.000000</td>\n",
              "      <td>53.000000</td>\n",
              "      <td>-181.000000</td>\n",
              "      <td>-620.000000</td>\n",
              "      <td>8.000000</td>\n",
              "      <td>200.000000</td>\n",
              "    </tr>\n",
              "    <tr>\n",
              "      <th>50%</th>\n",
              "      <td>1.322833e+09</td>\n",
              "      <td>498781.500000</td>\n",
              "      <td>428.000000</td>\n",
              "      <td>114.000000</td>\n",
              "      <td>5.320000</td>\n",
              "      <td>-11.900000</td>\n",
              "      <td>17.000000</td>\n",
              "      <td>-0.907946</td>\n",
              "      <td>-0.021887</td>\n",
              "      <td>0.005367</td>\n",
              "      <td>...</td>\n",
              "      <td>606.510220</td>\n",
              "      <td>0.050000</td>\n",
              "      <td>0.030000</td>\n",
              "      <td>0.080000</td>\n",
              "      <td>-58.000000</td>\n",
              "      <td>200.000000</td>\n",
              "      <td>-40.500000</td>\n",
              "      <td>-385.000000</td>\n",
              "      <td>588.000000</td>\n",
              "      <td>512.000000</td>\n",
              "    </tr>\n",
              "    <tr>\n",
              "      <th>75%</th>\n",
              "      <td>1.323084e+09</td>\n",
              "      <td>752287.750000</td>\n",
              "      <td>647.000000</td>\n",
              "      <td>123.000000</td>\n",
              "      <td>15.500000</td>\n",
              "      <td>12.500000</td>\n",
              "      <td>18.000000</td>\n",
              "      <td>-0.282445</td>\n",
              "      <td>4.148419</td>\n",
              "      <td>0.421581</td>\n",
              "      <td>...</td>\n",
              "      <td>7648.713645</td>\n",
              "      <td>0.560000</td>\n",
              "      <td>1.650000</td>\n",
              "      <td>0.490000</td>\n",
              "      <td>74.000000</td>\n",
              "      <td>312.000000</td>\n",
              "      <td>25.000000</td>\n",
              "      <td>-77.000000</td>\n",
              "      <td>736.000000</td>\n",
              "      <td>652.000000</td>\n",
              "    </tr>\n",
              "    <tr>\n",
              "      <th>max</th>\n",
              "      <td>1.323095e+09</td>\n",
              "      <td>999091.000000</td>\n",
              "      <td>864.000000</td>\n",
              "      <td>162.000000</td>\n",
              "      <td>60.300000</td>\n",
              "      <td>180.000000</td>\n",
              "      <td>30.000000</td>\n",
              "      <td>50.979819</td>\n",
              "      <td>71.000000</td>\n",
              "      <td>6.633250</td>\n",
              "      <td>...</td>\n",
              "      <td>39009.333330</td>\n",
              "      <td>4.770000</td>\n",
              "      <td>516.000000</td>\n",
              "      <td>231.000000</td>\n",
              "      <td>479.000000</td>\n",
              "      <td>923.000000</td>\n",
              "      <td>291.000000</td>\n",
              "      <td>672.000000</td>\n",
              "      <td>1480.000000</td>\n",
              "      <td>1090.000000</td>\n",
              "    </tr>\n",
              "  </tbody>\n",
              "</table>\n",
              "<p>8 rows × 154 columns</p>\n",
              "</div>\n",
              "      <button class=\"colab-df-convert\" onclick=\"convertToInteractive('df-1e02a9e5-8e1c-4597-b122-7443bc9a4460')\"\n",
              "              title=\"Convert this dataframe to an interactive table.\"\n",
              "              style=\"display:none;\">\n",
              "        \n",
              "  <svg xmlns=\"http://www.w3.org/2000/svg\" height=\"24px\"viewBox=\"0 0 24 24\"\n",
              "       width=\"24px\">\n",
              "    <path d=\"M0 0h24v24H0V0z\" fill=\"none\"/>\n",
              "    <path d=\"M18.56 5.44l.94 2.06.94-2.06 2.06-.94-2.06-.94-.94-2.06-.94 2.06-2.06.94zm-11 1L8.5 8.5l.94-2.06 2.06-.94-2.06-.94L8.5 2.5l-.94 2.06-2.06.94zm10 10l.94 2.06.94-2.06 2.06-.94-2.06-.94-.94-2.06-.94 2.06-2.06.94z\"/><path d=\"M17.41 7.96l-1.37-1.37c-.4-.4-.92-.59-1.43-.59-.52 0-1.04.2-1.43.59L10.3 9.45l-7.72 7.72c-.78.78-.78 2.05 0 2.83L4 21.41c.39.39.9.59 1.41.59.51 0 1.02-.2 1.41-.59l7.78-7.78 2.81-2.81c.8-.78.8-2.07 0-2.86zM5.41 20L4 18.59l7.72-7.72 1.47 1.35L5.41 20z\"/>\n",
              "  </svg>\n",
              "      </button>\n",
              "      \n",
              "  <style>\n",
              "    .colab-df-container {\n",
              "      display:flex;\n",
              "      flex-wrap:wrap;\n",
              "      gap: 12px;\n",
              "    }\n",
              "\n",
              "    .colab-df-convert {\n",
              "      background-color: #E8F0FE;\n",
              "      border: none;\n",
              "      border-radius: 50%;\n",
              "      cursor: pointer;\n",
              "      display: none;\n",
              "      fill: #1967D2;\n",
              "      height: 32px;\n",
              "      padding: 0 0 0 0;\n",
              "      width: 32px;\n",
              "    }\n",
              "\n",
              "    .colab-df-convert:hover {\n",
              "      background-color: #E2EBFA;\n",
              "      box-shadow: 0px 1px 2px rgba(60, 64, 67, 0.3), 0px 1px 3px 1px rgba(60, 64, 67, 0.15);\n",
              "      fill: #174EA6;\n",
              "    }\n",
              "\n",
              "    [theme=dark] .colab-df-convert {\n",
              "      background-color: #3B4455;\n",
              "      fill: #D2E3FC;\n",
              "    }\n",
              "\n",
              "    [theme=dark] .colab-df-convert:hover {\n",
              "      background-color: #434B5C;\n",
              "      box-shadow: 0px 1px 3px 1px rgba(0, 0, 0, 0.15);\n",
              "      filter: drop-shadow(0px 1px 2px rgba(0, 0, 0, 0.3));\n",
              "      fill: #FFFFFF;\n",
              "    }\n",
              "  </style>\n",
              "\n",
              "      <script>\n",
              "        const buttonEl =\n",
              "          document.querySelector('#df-1e02a9e5-8e1c-4597-b122-7443bc9a4460 button.colab-df-convert');\n",
              "        buttonEl.style.display =\n",
              "          google.colab.kernel.accessAllowed ? 'block' : 'none';\n",
              "\n",
              "        async function convertToInteractive(key) {\n",
              "          const element = document.querySelector('#df-1e02a9e5-8e1c-4597-b122-7443bc9a4460');\n",
              "          const dataTable =\n",
              "            await google.colab.kernel.invokeFunction('convertToInteractive',\n",
              "                                                     [key], {});\n",
              "          if (!dataTable) return;\n",
              "\n",
              "          const docLinkHtml = 'Like what you see? Visit the ' +\n",
              "            '<a target=\"_blank\" href=https://colab.research.google.com/notebooks/data_table.ipynb>data table notebook</a>'\n",
              "            + ' to learn more about interactive tables.';\n",
              "          element.innerHTML = '';\n",
              "          dataTable['output_type'] = 'display_data';\n",
              "          await google.colab.output.renderOutput(dataTable, element);\n",
              "          const docLink = document.createElement('div');\n",
              "          docLink.innerHTML = docLinkHtml;\n",
              "          element.appendChild(docLink);\n",
              "        }\n",
              "      </script>\n",
              "    </div>\n",
              "  </div>\n",
              "  "
            ]
          },
          "metadata": {},
          "execution_count": 377
        }
      ]
    },
    {
      "cell_type": "code",
      "source": [
        "# sns.set(rc={'figure.figsize':(20,20)})\n",
        "# sns.heatmap(df.corr())"
      ],
      "metadata": {
        "id": "zRf4uLlRQYtH"
      },
      "execution_count": null,
      "outputs": []
    },
    {
      "cell_type": "markdown",
      "source": [
        "Data set is imbalanced"
      ],
      "metadata": {
        "id": "DIX4R7GSULdE"
      }
    },
    {
      "cell_type": "code",
      "source": [
        "df.classe.value_counts()"
      ],
      "metadata": {
        "colab": {
          "base_uri": "https://localhost:8080/"
        },
        "id": "dH7LN8oEQkqo",
        "outputId": "6b66a770-48eb-48b3-b34f-02e0cfad975e"
      },
      "execution_count": null,
      "outputs": [
        {
          "output_type": "execute_result",
          "data": {
            "text/plain": [
              "A    11159\n",
              "B     7593\n",
              "E     7214\n",
              "C     6844\n",
              "D     6432\n",
              "Name: classe, dtype: int64"
            ]
          },
          "metadata": {},
          "execution_count": 379
        }
      ]
    },
    {
      "cell_type": "code",
      "source": [
        "len(df.num_window.value_counts())"
      ],
      "metadata": {
        "colab": {
          "base_uri": "https://localhost:8080/"
        },
        "id": "uxWYFag7UDjX",
        "outputId": "74af5416-e5d5-4753-ec2c-dda9458af35b"
      },
      "execution_count": null,
      "outputs": [
        {
          "output_type": "execute_result",
          "data": {
            "text/plain": [
              "861"
            ]
          },
          "metadata": {},
          "execution_count": 380
        }
      ]
    },
    {
      "cell_type": "code",
      "source": [
        "sns.set(rc={'figure.figsize':(8,8)})\n",
        "sns.countplot(x=\"classe\", data=df)"
      ],
      "metadata": {
        "colab": {
          "base_uri": "https://localhost:8080/",
          "height": 520
        },
        "id": "iJMwjPqINHkB",
        "outputId": "70c1c3d6-693f-4c40-a83f-2556cbf54607"
      },
      "execution_count": null,
      "outputs": [
        {
          "output_type": "execute_result",
          "data": {
            "text/plain": [
              "<matplotlib.axes._subplots.AxesSubplot at 0x7f370c01aed0>"
            ]
          },
          "metadata": {},
          "execution_count": 381
        },
        {
          "output_type": "display_data",
          "data": {
            "text/plain": [
              "<Figure size 576x576 with 1 Axes>"
            ],
            "image/png": "[encoded data removed]"
          },
          "metadata": {}
        }
      ]
    },
    {
      "cell_type": "code",
      "source": [
        "sns.set(rc={'figure.figsize':(8,8)})\n",
        "sns.countplot(x=\"user_name\", data=df)"
      ],
      "metadata": {
        "colab": {
          "base_uri": "https://localhost:8080/",
          "height": 520
        },
        "id": "tF15C8AeNKhD",
        "outputId": "95e98888-8802-4bdc-9a95-eada5bd1f4d2"
      },
      "execution_count": null,
      "outputs": [
        {
          "output_type": "execute_result",
          "data": {
            "text/plain": [
              "<matplotlib.axes._subplots.AxesSubplot at 0x7f370bf36850>"
            ]
          },
          "metadata": {},
          "execution_count": 382
        },
        {
          "output_type": "display_data",
          "data": {
            "text/plain": [
              "<Figure size 576x576 with 1 Axes>"
            ],
            "image/png": "[encoded data removed]"
          },
          "metadata": {}
        }
      ]
    },
    {
      "cell_type": "code",
      "source": [
        "sns.set(rc={'figure.figsize':(8,8)})\n",
        "\n",
        "sns.countplot(x=\"user_name\", hue='classe', data=df)"
      ],
      "metadata": {
        "id": "vOho5Eh7VsKT",
        "colab": {
          "base_uri": "https://localhost:8080/",
          "height": 520
        },
        "outputId": "8f5c0aae-63b3-49bb-cb76-be8f8a4c13ab"
      },
      "execution_count": null,
      "outputs": [
        {
          "output_type": "execute_result",
          "data": {
            "text/plain": [
              "<matplotlib.axes._subplots.AxesSubplot at 0x7f37092e6410>"
            ]
          },
          "metadata": {},
          "execution_count": 383
        },
        {
          "output_type": "display_data",
          "data": {
            "text/plain": [
              "<Figure size 576x576 with 1 Axes>"
            ],
            "image/png": "[encoded data removed]"
          },
          "metadata": {}
        }
      ]
    },
    {
      "cell_type": "markdown",
      "source": [
        "## Filling Empty Values"
      ],
      "metadata": {
        "id": "M-T1Yb9jbS59"
      }
    },
    {
      "cell_type": "code",
      "source": [
        "df.rename(columns={'skewness_roll_belt.1':'skewness_pitch_belt'}, inplace=True)"
      ],
      "metadata": {
        "id": "vt-gmBuJwIYy"
      },
      "execution_count": null,
      "outputs": []
    },
    {
      "cell_type": "code",
      "source": [
        "df1 = df.copy()"
      ],
      "metadata": {
        "id": "8qy2lIqUoafU"
      },
      "execution_count": null,
      "outputs": []
    },
    {
      "cell_type": "code",
      "source": [
        "print('Number of Empty Values : ', df1['kurtosis_roll_belt'].isnull().sum(axis = 0))\n",
        "print('Number of Empty Values : ', df1['num_window'].isnull().sum(axis = 0))"
      ],
      "metadata": {
        "colab": {
          "base_uri": "https://localhost:8080/"
        },
        "id": "MEqwrCeo5-eW",
        "outputId": "e1cd0ca2-cd60-4cf0-ca00-91d731dbb48a"
      },
      "execution_count": null,
      "outputs": [
        {
          "output_type": "stream",
          "name": "stdout",
          "text": [
            "Number of Empty Values :  38435\n",
            "Number of Empty Values :  0\n"
          ]
        }
      ]
    },
    {
      "cell_type": "code",
      "source": [
        "for i in range(1,865,1):\n",
        "    val = df1[ (df1['new_window'] == 'yes') & (df1['num_window'] == i) ]['kurtosis_roll_belt']\n",
        "    for j in val:\n",
        "      df1.loc[ df1['num_window'] == i , 'kurtosis_roll_belt' ] = j"
      ],
      "metadata": {
        "id": "t1PusQlP533n"
      },
      "execution_count": null,
      "outputs": []
    },
    {
      "cell_type": "code",
      "source": [
        "print('Number of Empty Values : ', df1['kurtosis_roll_belt'].isnull().sum(axis = 0))\n",
        "print('Number of Empty Values : ', df1['num_window'].isnull().sum(axis = 0))"
      ],
      "metadata": {
        "colab": {
          "base_uri": "https://localhost:8080/"
        },
        "id": "MEedo0Kc6u4i",
        "outputId": "35ae9cc9-679a-49b9-afe7-9501c5932378"
      },
      "execution_count": null,
      "outputs": [
        {
          "output_type": "stream",
          "name": "stdout",
          "text": [
            "Number of Empty Values :  1706\n",
            "Number of Empty Values :  0\n"
          ]
        }
      ]
    },
    {
      "cell_type": "code",
      "source": [
        "df2 = df1.copy()"
      ],
      "metadata": {
        "id": "N7eRmXh_oiWf"
      },
      "execution_count": null,
      "outputs": []
    },
    {
      "cell_type": "code",
      "source": [
        "print('Column Name', '  No of Missing Values')\n",
        "for i in zip(df2.columns, df2.isna().sum()):\n",
        "  print(i[0], '\\t\\t', i[1])"
      ],
      "metadata": {
        "colab": {
          "base_uri": "https://localhost:8080/"
        },
        "id": "Pv78WJsbp7hj",
        "outputId": "f6001dcc-d165-439d-d946-8d198367b8db"
      },
      "execution_count": null,
      "outputs": [
        {
          "output_type": "stream",
          "name": "stdout",
          "text": [
            "Column Name   No of Missing Values\n",
            "user_name \t\t 0\n",
            "raw_timestamp_part_1 \t\t 0\n",
            "raw_timestamp_part_2 \t\t 0\n",
            "cvtd_timestamp \t\t 0\n",
            "new_window \t\t 0\n",
            "num_window \t\t 0\n",
            "roll_belt \t\t 0\n",
            "pitch_belt \t\t 0\n",
            "yaw_belt \t\t 0\n",
            "total_accel_belt \t\t 0\n",
            "kurtosis_roll_belt \t\t 1706\n",
            "kurtosis_picth_belt \t\t 38475\n",
            "kurtosis_yaw_belt \t\t 39241\n",
            "skewness_roll_belt \t\t 38434\n",
            "skewness_pitch_belt \t\t 38475\n",
            "skewness_yaw_belt \t\t 39242\n",
            "max_roll_belt \t\t 38403\n",
            "max_picth_belt \t\t 38403\n",
            "max_yaw_belt \t\t 38435\n",
            "min_roll_belt \t\t 38403\n",
            "min_pitch_belt \t\t 38403\n",
            "min_yaw_belt \t\t 38435\n",
            "amplitude_roll_belt \t\t 38403\n",
            "amplitude_pitch_belt \t\t 38403\n",
            "amplitude_yaw_belt \t\t 38435\n",
            "var_total_accel_belt \t\t 38403\n",
            "avg_roll_belt \t\t 38402\n",
            "stddev_roll_belt \t\t 38403\n",
            "var_roll_belt \t\t 38403\n",
            "avg_pitch_belt \t\t 38403\n",
            "stddev_pitch_belt \t\t 38403\n",
            "var_pitch_belt \t\t 38403\n",
            "avg_yaw_belt \t\t 38403\n",
            "stddev_yaw_belt \t\t 38403\n",
            "var_yaw_belt \t\t 38403\n",
            "gyros_belt_x \t\t 0\n",
            "gyros_belt_y \t\t 0\n",
            "gyros_belt_z \t\t 0\n",
            "accel_belt_x \t\t 0\n",
            "accel_belt_y \t\t 0\n",
            "accel_belt_z \t\t 0\n",
            "magnet_belt_x \t\t 0\n",
            "magnet_belt_y \t\t 0\n",
            "magnet_belt_z \t\t 0\n",
            "roll_arm \t\t 0\n",
            "pitch_arm \t\t 0\n",
            "yaw_arm \t\t 0\n",
            "total_accel_arm \t\t 0\n",
            "var_accel_arm \t\t 38403\n",
            "avg_roll_arm \t\t 38403\n",
            "stddev_roll_arm \t\t 38403\n",
            "var_roll_arm \t\t 38403\n",
            "avg_pitch_arm \t\t 38403\n",
            "stddev_pitch_arm \t\t 38403\n",
            "var_pitch_arm \t\t 38403\n",
            "avg_yaw_arm \t\t 38403\n",
            "stddev_yaw_arm \t\t 38403\n",
            "var_yaw_arm \t\t 38403\n",
            "gyros_arm_x \t\t 0\n",
            "gyros_arm_y \t\t 0\n",
            "gyros_arm_z \t\t 0\n",
            "accel_arm_x \t\t 0\n",
            "accel_arm_y \t\t 0\n",
            "accel_arm_z \t\t 0\n",
            "magnet_arm_x \t\t 0\n",
            "magnet_arm_y \t\t 0\n",
            "magnet_arm_z \t\t 0\n",
            "kurtosis_roll_arm \t\t 38548\n",
            "kurtosis_picth_arm \t\t 38554\n",
            "kurtosis_yaw_arm \t\t 38431\n",
            "skewness_roll_arm \t\t 38547\n",
            "skewness_pitch_arm \t\t 38554\n",
            "skewness_yaw_arm \t\t 38431\n",
            "max_roll_arm \t\t 38403\n",
            "max_picth_arm \t\t 38403\n",
            "max_yaw_arm \t\t 38403\n",
            "min_roll_arm \t\t 38403\n",
            "min_pitch_arm \t\t 38403\n",
            "min_yaw_arm \t\t 38403\n",
            "amplitude_roll_arm \t\t 38403\n",
            "amplitude_pitch_arm \t\t 38403\n",
            "amplitude_yaw_arm \t\t 38403\n",
            "roll_dumbbell \t\t 1\n",
            "pitch_dumbbell \t\t 0\n",
            "yaw_dumbbell \t\t 0\n",
            "kurtosis_roll_dumbbell \t\t 38412\n",
            "kurtosis_picth_dumbbell \t\t 38407\n",
            "kurtosis_yaw_dumbbell \t\t 39242\n",
            "skewness_roll_dumbbell \t\t 38411\n",
            "skewness_pitch_dumbbell \t\t 38406\n",
            "skewness_yaw_dumbbell \t\t 39242\n",
            "max_roll_dumbbell \t\t 38403\n",
            "max_picth_dumbbell \t\t 38403\n",
            "max_yaw_dumbbell \t\t 38412\n",
            "min_roll_dumbbell \t\t 38403\n",
            "min_pitch_dumbbell \t\t 38403\n",
            "min_yaw_dumbbell \t\t 38412\n",
            "amplitude_roll_dumbbell \t\t 38403\n",
            "amplitude_pitch_dumbbell \t\t 38403\n",
            "amplitude_yaw_dumbbell \t\t 38412\n",
            "total_accel_dumbbell \t\t 0\n",
            "var_accel_dumbbell \t\t 38403\n",
            "avg_roll_dumbbell \t\t 38403\n",
            "stddev_roll_dumbbell \t\t 38403\n",
            "var_roll_dumbbell \t\t 38403\n",
            "avg_pitch_dumbbell \t\t 38403\n",
            "stddev_pitch_dumbbell \t\t 38403\n",
            "var_pitch_dumbbell \t\t 38403\n",
            "avg_yaw_dumbbell \t\t 38403\n",
            "stddev_yaw_dumbbell \t\t 38403\n",
            "var_yaw_dumbbell \t\t 38403\n",
            "gyros_dumbbell_x \t\t 0\n",
            "gyros_dumbbell_y \t\t 0\n",
            "gyros_dumbbell_z \t\t 0\n",
            "accel_dumbbell_x \t\t 0\n",
            "accel_dumbbell_y \t\t 0\n",
            "accel_dumbbell_z \t\t 0\n",
            "magnet_dumbbell_x \t\t 0\n",
            "magnet_dumbbell_y \t\t 0\n",
            "magnet_dumbbell_z \t\t 0\n",
            "roll_forearm \t\t 0\n",
            "pitch_forearm \t\t 0\n",
            "yaw_forearm \t\t 0\n",
            "kurtosis_roll_forearm \t\t 38581\n",
            "kurtosis_picth_forearm \t\t 38584\n",
            "kurtosis_yaw_forearm \t\t 39242\n",
            "skewness_roll_forearm \t\t 38580\n",
            "skewness_pitch_forearm \t\t 38584\n",
            "skewness_yaw_forearm \t\t 39242\n",
            "max_roll_forearm \t\t 38403\n",
            "max_picth_forearm \t\t 38403\n",
            "max_yaw_forearm \t\t 38581\n",
            "min_roll_forearm \t\t 38403\n",
            "min_pitch_forearm \t\t 38403\n",
            "min_yaw_forearm \t\t 38581\n",
            "amplitude_roll_forearm \t\t 38403\n",
            "amplitude_pitch_forearm \t\t 38403\n",
            "amplitude_yaw_forearm \t\t 38581\n",
            "total_accel_forearm \t\t 0\n",
            "var_accel_forearm \t\t 38403\n",
            "avg_roll_forearm \t\t 38403\n",
            "stddev_roll_forearm \t\t 38403\n",
            "var_roll_forearm \t\t 38403\n",
            "avg_pitch_forearm \t\t 38403\n",
            "stddev_pitch_forearm \t\t 38403\n",
            "var_pitch_forearm \t\t 38403\n",
            "avg_yaw_forearm \t\t 38403\n",
            "stddev_yaw_forearm \t\t 38403\n",
            "var_yaw_forearm \t\t 38403\n",
            "gyros_forearm_x \t\t 0\n",
            "gyros_forearm_y \t\t 0\n",
            "gyros_forearm_z \t\t 0\n",
            "accel_forearm_x \t\t 0\n",
            "accel_forearm_y \t\t 0\n",
            "accel_forearm_z \t\t 0\n",
            "magnet_forearm_x \t\t 0\n",
            "magnet_forearm_y \t\t 0\n",
            "magnet_forearm_z \t\t 0\n",
            "classe \t\t 0\n"
          ]
        }
      ]
    },
    {
      "cell_type": "code",
      "source": [
        "df2[ df2['max_roll_belt'].isna()][['max_roll_belt','num_window','roll_belt']]"
      ],
      "metadata": {
        "colab": {
          "base_uri": "https://localhost:8080/",
          "height": 424
        },
        "id": "WHm26Nwde6_B",
        "outputId": "860930ad-2722-446b-cfa6-1cddb05e2700"
      },
      "execution_count": null,
      "outputs": [
        {
          "output_type": "execute_result",
          "data": {
            "text/plain": [
              "       max_roll_belt  num_window  roll_belt\n",
              "0                NaN         1.0       3.70\n",
              "1                NaN         1.0       3.66\n",
              "2                NaN         1.0       3.58\n",
              "3                NaN         1.0       3.56\n",
              "4                NaN         1.0       3.57\n",
              "...              ...         ...        ...\n",
              "39236            NaN       864.0     146.00\n",
              "39237            NaN       864.0     145.00\n",
              "39238            NaN       864.0     145.00\n",
              "39239            NaN       864.0     144.00\n",
              "39240            NaN       864.0     143.00\n",
              "\n",
              "[38403 rows x 3 columns]"
            ],
            "text/html": [
              "\n",
              "  <div id=\"df-2acbf845-7b20-4592-b143-b89a923939bf\">\n",
              "    <div class=\"colab-df-container\">\n",
              "      <div>\n",
              "<style scoped>\n",
              "    .dataframe tbody tr th:only-of-type {\n",
              "        vertical-align: middle;\n",
              "    }\n",
              "\n",
              "    .dataframe tbody tr th {\n",
              "        vertical-align: top;\n",
              "    }\n",
              "\n",
              "    .dataframe thead th {\n",
              "        text-align: right;\n",
              "    }\n",
              "</style>\n",
              "<table border=\"1\" class=\"dataframe\">\n",
              "  <thead>\n",
              "    <tr style=\"text-align: right;\">\n",
              "      <th></th>\n",
              "      <th>max_roll_belt</th>\n",
              "      <th>num_window</th>\n",
              "      <th>roll_belt</th>\n",
              "    </tr>\n",
              "  </thead>\n",
              "  <tbody>\n",
              "    <tr>\n",
              "      <th>0</th>\n",
              "      <td>NaN</td>\n",
              "      <td>1.0</td>\n",
              "      <td>3.70</td>\n",
              "    </tr>\n",
              "    <tr>\n",
              "      <th>1</th>\n",
              "      <td>NaN</td>\n",
              "      <td>1.0</td>\n",
              "      <td>3.66</td>\n",
              "    </tr>\n",
              "    <tr>\n",
              "      <th>2</th>\n",
              "      <td>NaN</td>\n",
              "      <td>1.0</td>\n",
              "      <td>3.58</td>\n",
              "    </tr>\n",
              "    <tr>\n",
              "      <th>3</th>\n",
              "      <td>NaN</td>\n",
              "      <td>1.0</td>\n",
              "      <td>3.56</td>\n",
              "    </tr>\n",
              "    <tr>\n",
              "      <th>4</th>\n",
              "      <td>NaN</td>\n",
              "      <td>1.0</td>\n",
              "      <td>3.57</td>\n",
              "    </tr>\n",
              "    <tr>\n",
              "      <th>...</th>\n",
              "      <td>...</td>\n",
              "      <td>...</td>\n",
              "      <td>...</td>\n",
              "    </tr>\n",
              "    <tr>\n",
              "      <th>39236</th>\n",
              "      <td>NaN</td>\n",
              "      <td>864.0</td>\n",
              "      <td>146.00</td>\n",
              "    </tr>\n",
              "    <tr>\n",
              "      <th>39237</th>\n",
              "      <td>NaN</td>\n",
              "      <td>864.0</td>\n",
              "      <td>145.00</td>\n",
              "    </tr>\n",
              "    <tr>\n",
              "      <th>39238</th>\n",
              "      <td>NaN</td>\n",
              "      <td>864.0</td>\n",
              "      <td>145.00</td>\n",
              "    </tr>\n",
              "    <tr>\n",
              "      <th>39239</th>\n",
              "      <td>NaN</td>\n",
              "      <td>864.0</td>\n",
              "      <td>144.00</td>\n",
              "    </tr>\n",
              "    <tr>\n",
              "      <th>39240</th>\n",
              "      <td>NaN</td>\n",
              "      <td>864.0</td>\n",
              "      <td>143.00</td>\n",
              "    </tr>\n",
              "  </tbody>\n",
              "</table>\n",
              "<p>38403 rows × 3 columns</p>\n",
              "</div>\n",
              "      <button class=\"colab-df-convert\" onclick=\"convertToInteractive('df-2acbf845-7b20-4592-b143-b89a923939bf')\"\n",
              "              title=\"Convert this dataframe to an interactive table.\"\n",
              "              style=\"display:none;\">\n",
              "        \n",
              "  <svg xmlns=\"http://www.w3.org/2000/svg\" height=\"24px\"viewBox=\"0 0 24 24\"\n",
              "       width=\"24px\">\n",
              "    <path d=\"M0 0h24v24H0V0z\" fill=\"none\"/>\n",
              "    <path d=\"M18.56 5.44l.94 2.06.94-2.06 2.06-.94-2.06-.94-.94-2.06-.94 2.06-2.06.94zm-11 1L8.5 8.5l.94-2.06 2.06-.94-2.06-.94L8.5 2.5l-.94 2.06-2.06.94zm10 10l.94 2.06.94-2.06 2.06-.94-2.06-.94-.94-2.06-.94 2.06-2.06.94z\"/><path d=\"M17.41 7.96l-1.37-1.37c-.4-.4-.92-.59-1.43-.59-.52 0-1.04.2-1.43.59L10.3 9.45l-7.72 7.72c-.78.78-.78 2.05 0 2.83L4 21.41c.39.39.9.59 1.41.59.51 0 1.02-.2 1.41-.59l7.78-7.78 2.81-2.81c.8-.78.8-2.07 0-2.86zM5.41 20L4 18.59l7.72-7.72 1.47 1.35L5.41 20z\"/>\n",
              "  </svg>\n",
              "      </button>\n",
              "      \n",
              "  <style>\n",
              "    .colab-df-container {\n",
              "      display:flex;\n",
              "      flex-wrap:wrap;\n",
              "      gap: 12px;\n",
              "    }\n",
              "\n",
              "    .colab-df-convert {\n",
              "      background-color: #E8F0FE;\n",
              "      border: none;\n",
              "      border-radius: 50%;\n",
              "      cursor: pointer;\n",
              "      display: none;\n",
              "      fill: #1967D2;\n",
              "      height: 32px;\n",
              "      padding: 0 0 0 0;\n",
              "      width: 32px;\n",
              "    }\n",
              "\n",
              "    .colab-df-convert:hover {\n",
              "      background-color: #E2EBFA;\n",
              "      box-shadow: 0px 1px 2px rgba(60, 64, 67, 0.3), 0px 1px 3px 1px rgba(60, 64, 67, 0.15);\n",
              "      fill: #174EA6;\n",
              "    }\n",
              "\n",
              "    [theme=dark] .colab-df-convert {\n",
              "      background-color: #3B4455;\n",
              "      fill: #D2E3FC;\n",
              "    }\n",
              "\n",
              "    [theme=dark] .colab-df-convert:hover {\n",
              "      background-color: #434B5C;\n",
              "      box-shadow: 0px 1px 3px 1px rgba(0, 0, 0, 0.15);\n",
              "      filter: drop-shadow(0px 1px 2px rgba(0, 0, 0, 0.3));\n",
              "      fill: #FFFFFF;\n",
              "    }\n",
              "  </style>\n",
              "\n",
              "      <script>\n",
              "        const buttonEl =\n",
              "          document.querySelector('#df-2acbf845-7b20-4592-b143-b89a923939bf button.colab-df-convert');\n",
              "        buttonEl.style.display =\n",
              "          google.colab.kernel.accessAllowed ? 'block' : 'none';\n",
              "\n",
              "        async function convertToInteractive(key) {\n",
              "          const element = document.querySelector('#df-2acbf845-7b20-4592-b143-b89a923939bf');\n",
              "          const dataTable =\n",
              "            await google.colab.kernel.invokeFunction('convertToInteractive',\n",
              "                                                     [key], {});\n",
              "          if (!dataTable) return;\n",
              "\n",
              "          const docLinkHtml = 'Like what you see? Visit the ' +\n",
              "            '<a target=\"_blank\" href=https://colab.research.google.com/notebooks/data_table.ipynb>data table notebook</a>'\n",
              "            + ' to learn more about interactive tables.';\n",
              "          element.innerHTML = '';\n",
              "          dataTable['output_type'] = 'display_data';\n",
              "          await google.colab.output.renderOutput(dataTable, element);\n",
              "          const docLink = document.createElement('div');\n",
              "          docLink.innerHTML = docLinkHtml;\n",
              "          element.appendChild(docLink);\n",
              "        }\n",
              "      </script>\n",
              "    </div>\n",
              "  </div>\n",
              "  "
            ]
          },
          "metadata": {},
          "execution_count": 391
        }
      ]
    },
    {
      "cell_type": "code",
      "source": [
        "for i in df2[df2['max_roll_belt'].isna()]['num_window'].unique():\n",
        "  max_val = df2[(df2['num_window'] == i)]['roll_belt'].max()\n",
        "  df2.loc[ (df2['num_window'] == i) ,'max_roll_belt' ] = max_val"
      ],
      "metadata": {
        "id": "5R_QZmXVlpin"
      },
      "execution_count": null,
      "outputs": []
    },
    {
      "cell_type": "code",
      "source": [
        "df2[ df2['max_roll_belt'].isna()][['max_roll_belt','num_window','roll_belt']]"
      ],
      "metadata": {
        "colab": {
          "base_uri": "https://localhost:8080/",
          "height": 49
        },
        "id": "x3c19o-noQGu",
        "outputId": "51673885-98d1-47ca-c158-6950616c2844"
      },
      "execution_count": null,
      "outputs": [
        {
          "output_type": "execute_result",
          "data": {
            "text/plain": [
              "Empty DataFrame\n",
              "Columns: [max_roll_belt, num_window, roll_belt]\n",
              "Index: []"
            ],
            "text/html": [
              "\n",
              "  <div id=\"df-f99e8430-8246-4e83-9048-42387df9a0cd\">\n",
              "    <div class=\"colab-df-container\">\n",
              "      <div>\n",
              "<style scoped>\n",
              "    .dataframe tbody tr th:only-of-type {\n",
              "        vertical-align: middle;\n",
              "    }\n",
              "\n",
              "    .dataframe tbody tr th {\n",
              "        vertical-align: top;\n",
              "    }\n",
              "\n",
              "    .dataframe thead th {\n",
              "        text-align: right;\n",
              "    }\n",
              "</style>\n",
              "<table border=\"1\" class=\"dataframe\">\n",
              "  <thead>\n",
              "    <tr style=\"text-align: right;\">\n",
              "      <th></th>\n",
              "      <th>max_roll_belt</th>\n",
              "      <th>num_window</th>\n",
              "      <th>roll_belt</th>\n",
              "    </tr>\n",
              "  </thead>\n",
              "  <tbody>\n",
              "  </tbody>\n",
              "</table>\n",
              "</div>\n",
              "      <button class=\"colab-df-convert\" onclick=\"convertToInteractive('df-f99e8430-8246-4e83-9048-42387df9a0cd')\"\n",
              "              title=\"Convert this dataframe to an interactive table.\"\n",
              "              style=\"display:none;\">\n",
              "        \n",
              "  <svg xmlns=\"http://www.w3.org/2000/svg\" height=\"24px\"viewBox=\"0 0 24 24\"\n",
              "       width=\"24px\">\n",
              "    <path d=\"M0 0h24v24H0V0z\" fill=\"none\"/>\n",
              "    <path d=\"M18.56 5.44l.94 2.06.94-2.06 2.06-.94-2.06-.94-.94-2.06-.94 2.06-2.06.94zm-11 1L8.5 8.5l.94-2.06 2.06-.94-2.06-.94L8.5 2.5l-.94 2.06-2.06.94zm10 10l.94 2.06.94-2.06 2.06-.94-2.06-.94-.94-2.06-.94 2.06-2.06.94z\"/><path d=\"M17.41 7.96l-1.37-1.37c-.4-.4-.92-.59-1.43-.59-.52 0-1.04.2-1.43.59L10.3 9.45l-7.72 7.72c-.78.78-.78 2.05 0 2.83L4 21.41c.39.39.9.59 1.41.59.51 0 1.02-.2 1.41-.59l7.78-7.78 2.81-2.81c.8-.78.8-2.07 0-2.86zM5.41 20L4 18.59l7.72-7.72 1.47 1.35L5.41 20z\"/>\n",
              "  </svg>\n",
              "      </button>\n",
              "      \n",
              "  <style>\n",
              "    .colab-df-container {\n",
              "      display:flex;\n",
              "      flex-wrap:wrap;\n",
              "      gap: 12px;\n",
              "    }\n",
              "\n",
              "    .colab-df-convert {\n",
              "      background-color: #E8F0FE;\n",
              "      border: none;\n",
              "      border-radius: 50%;\n",
              "      cursor: pointer;\n",
              "      display: none;\n",
              "      fill: #1967D2;\n",
              "      height: 32px;\n",
              "      padding: 0 0 0 0;\n",
              "      width: 32px;\n",
              "    }\n",
              "\n",
              "    .colab-df-convert:hover {\n",
              "      background-color: #E2EBFA;\n",
              "      box-shadow: 0px 1px 2px rgba(60, 64, 67, 0.3), 0px 1px 3px 1px rgba(60, 64, 67, 0.15);\n",
              "      fill: #174EA6;\n",
              "    }\n",
              "\n",
              "    [theme=dark] .colab-df-convert {\n",
              "      background-color: #3B4455;\n",
              "      fill: #D2E3FC;\n",
              "    }\n",
              "\n",
              "    [theme=dark] .colab-df-convert:hover {\n",
              "      background-color: #434B5C;\n",
              "      box-shadow: 0px 1px 3px 1px rgba(0, 0, 0, 0.15);\n",
              "      filter: drop-shadow(0px 1px 2px rgba(0, 0, 0, 0.3));\n",
              "      fill: #FFFFFF;\n",
              "    }\n",
              "  </style>\n",
              "\n",
              "      <script>\n",
              "        const buttonEl =\n",
              "          document.querySelector('#df-f99e8430-8246-4e83-9048-42387df9a0cd button.colab-df-convert');\n",
              "        buttonEl.style.display =\n",
              "          google.colab.kernel.accessAllowed ? 'block' : 'none';\n",
              "\n",
              "        async function convertToInteractive(key) {\n",
              "          const element = document.querySelector('#df-f99e8430-8246-4e83-9048-42387df9a0cd');\n",
              "          const dataTable =\n",
              "            await google.colab.kernel.invokeFunction('convertToInteractive',\n",
              "                                                     [key], {});\n",
              "          if (!dataTable) return;\n",
              "\n",
              "          const docLinkHtml = 'Like what you see? Visit the ' +\n",
              "            '<a target=\"_blank\" href=https://colab.research.google.com/notebooks/data_table.ipynb>data table notebook</a>'\n",
              "            + ' to learn more about interactive tables.';\n",
              "          element.innerHTML = '';\n",
              "          dataTable['output_type'] = 'display_data';\n",
              "          await google.colab.output.renderOutput(dataTable, element);\n",
              "          const docLink = document.createElement('div');\n",
              "          docLink.innerHTML = docLinkHtml;\n",
              "          element.appendChild(docLink);\n",
              "        }\n",
              "      </script>\n",
              "    </div>\n",
              "  </div>\n",
              "  "
            ]
          },
          "metadata": {},
          "execution_count": 393
        }
      ]
    },
    {
      "cell_type": "code",
      "source": [
        "df2['skewness_pitch_belt']"
      ],
      "metadata": {
        "id": "uoVvldPGpr6K",
        "outputId": "fe64cb7e-e671-4dac-b9b7-3df2dbec8ac5",
        "colab": {
          "base_uri": "https://localhost:8080/"
        }
      },
      "execution_count": null,
      "outputs": [
        {
          "output_type": "execute_result",
          "data": {
            "text/plain": [
              "0             NaN\n",
              "1             NaN\n",
              "2             NaN\n",
              "3             NaN\n",
              "4             NaN\n",
              "           ...   \n",
              "39237         NaN\n",
              "39238         NaN\n",
              "39239         NaN\n",
              "39240         NaN\n",
              "39241   -0.572396\n",
              "Name: skewness_pitch_belt, Length: 39242, dtype: float64"
            ]
          },
          "metadata": {},
          "execution_count": 394
        }
      ]
    },
    {
      "cell_type": "code",
      "source": [
        "empty_max_cols = ['max_roll_belt', 'max_picth_belt',  'max_yaw_belt', \n",
        "            'max_roll_dumbbell', 'max_picth_dumbbell', 'max_yaw_dumbbell']\n",
        "\n",
        "empty_min_cols = ['min_roll_belt', 'min_pitch_belt',  'min_yaw_belt', \n",
        "            'min_roll_dumbbell', 'min_pitch_dumbbell', 'min_yaw_dumbbell']\n",
        "\n",
        "empty_avg_cols = ['avg_roll_belt', 'avg_pitch_belt',  'avg_yaw_belt', \n",
        "            'avg_roll_dumbbell', 'avg_pitch_dumbbell', 'avg_yaw_dumbbell']\n",
        "\n",
        "empty_var_cols = ['var_roll_belt', 'var_pitch_belt',  'var_yaw_belt', \n",
        "            'var_roll_dumbbell', 'var_pitch_dumbbell', 'var_yaw_dumbbell']\n",
        "\n",
        "empty_std_cols = ['stddev_roll_belt', 'stddev_pitch_belt',  'stddev_yaw_belt', \n",
        "            'stddev_roll_dumbbell', 'stddev_pitch_dumbbell', 'stddev_yaw_dumbbell']\n",
        "\n",
        "empty_kurtosis_cols = ['kurtosis_roll_belt', 'kurtosis_pitch_belt',  'kurtosis_yaw_belt', \n",
        "            'kurtosis_roll_dumbbell', 'kurtosis_pitch_dumbbell', 'kurtosis_yaw_dumbbell']   \n",
        "\n",
        "\n",
        "empty_kurtosis_cols = ['kurtosis_roll_belt', 'kurtosis_picth_belt',  'kurtosis_yaw_belt', \n",
        "            'kurtosis_roll_dumbbell', 'kurtosis_picth_dumbbell', 'kurtosis_yaw_dumbbell']\n",
        "\n",
        "empty_skew_cols = ['skewness_roll_belt', 'skewness_pitch_belt',  'skewness_yaw_belt', \n",
        "            'skewness_roll_dumbbell', 'skewness_pitch_dumbbell', 'skewness_yaw_dumbbell']\n",
        "\n",
        "empty_amplitude_cols = ['amplitude_roll_belt', 'amplitude_pitch_belt',  'amplitude_yaw_belt', \n",
        "            'amplitude_roll_dumbbell', 'amplitude_pitch_dumbbell', 'amplitude_yaw_dumbbell'\n",
        "            ]   \n",
        "\n",
        "empty_acceleration_cols = ['var_total_accel_belt',  'var_accel_dumbbell']\n",
        "\n",
        "attributes = [\n",
        "              'roll_belt','pitch_belt','yaw_belt',              \n",
        "              'roll_dumbbell', 'pitch_dumbbell', 'yaw_dumbbell']\n",
        "\n",
        "attributes2 = ['total_accel_belt', 'total_accel_dumbbell']"
      ],
      "metadata": {
        "id": "RUnZo8O3383K"
      },
      "execution_count": null,
      "outputs": []
    },
    {
      "cell_type": "code",
      "source": [
        "for j in zip(empty_max_cols, attributes):\n",
        "  for i in df2[df2[j[0]].isna()]['num_window'].unique():\n",
        "    max_val = df2[(df2['num_window'] == i)][j[1]].max()\n",
        "    df2.loc[ (df2['num_window'] == i) ,j[0] ] = max_val"
      ],
      "metadata": {
        "id": "0xM60_54FKu2"
      },
      "execution_count": null,
      "outputs": []
    },
    {
      "cell_type": "code",
      "source": [
        "for j in zip(empty_min_cols, attributes):\n",
        "  for i in df2[df2[j[0]].isna()]['num_window'].unique():\n",
        "    min_val = df2[(df2['num_window'] == i)][j[1]].min()\n",
        "    df2.loc[ (df2['num_window'] == i) ,j[0] ] = min_val"
      ],
      "metadata": {
        "id": "DXg2QoV_F8hD"
      },
      "execution_count": null,
      "outputs": []
    },
    {
      "cell_type": "code",
      "source": [
        "for j in zip(empty_avg_cols, attributes):\n",
        "  for i in df2[df2[j[0]].isna()]['num_window'].unique():\n",
        "    mean_val = df2[(df2['num_window'] == i)][j[1]].mean()\n",
        "    df2.loc[ (df2['num_window'] == i) ,j[0] ] = mean_val"
      ],
      "metadata": {
        "id": "HCXC22BVMaak"
      },
      "execution_count": null,
      "outputs": []
    },
    {
      "cell_type": "code",
      "source": [
        "for j in zip(empty_var_cols, attributes):\n",
        "  for i in df2[df2[j[0]].isna()]['num_window'].unique():\n",
        "    var_val = df2[(df2['num_window'] == i)][j[1]].var()\n",
        "    df2.loc[ (df2['num_window'] == i) ,j[0] ] = var_val"
      ],
      "metadata": {
        "id": "Ge5FzFZqhXbK"
      },
      "execution_count": null,
      "outputs": []
    },
    {
      "cell_type": "code",
      "source": [
        "for j in zip(empty_std_cols, attributes):\n",
        "  for i in df2[df2[j[0]].isna()]['num_window'].unique():\n",
        "    std_val = df2[(df2['num_window'] == i)][j[1]].std()\n",
        "    df2.loc[ (df2['num_window'] == i) ,j[0] ] = std_val"
      ],
      "metadata": {
        "id": "97BX5sjhl2BA"
      },
      "execution_count": null,
      "outputs": []
    },
    {
      "cell_type": "code",
      "source": [
        "for j in zip(empty_kurtosis_cols, attributes):\n",
        "  for i in df2[df2[j[0]].isna()]['num_window'].unique():\n",
        "    std_val = df2[(df2['num_window'] == i)][j[1]].kurtosis()\n",
        "    df2.loc[ (df2['num_window'] == i) ,j[0] ] = std_val"
      ],
      "metadata": {
        "id": "SMYPwLuKV2Sy"
      },
      "execution_count": null,
      "outputs": []
    },
    {
      "cell_type": "code",
      "source": [
        "for j in zip(empty_skew_cols, attributes):\n",
        "  for i in df2[df2[j[0]].isna()]['num_window'].unique():\n",
        "    std_val = df2[(df2['num_window'] == i)][j[1]].skew()\n",
        "    df2.loc[ (df2['num_window'] == i) ,j[0] ] = std_val"
      ],
      "metadata": {
        "id": "hTmxPtfoYMpq"
      },
      "execution_count": null,
      "outputs": []
    },
    {
      "cell_type": "code",
      "source": [
        "for j in zip(empty_amplitude_cols, attributes):\n",
        "  for i in df2[df2[j[0]].isna()]['num_window'].unique():\n",
        "    val1 = df2[(df2['num_window'] == i)][j[1]].max()\n",
        "    val2 = df2[(df2['num_window'] == i)][j[1]].min()\n",
        "    val = abs(val1 - val2)\n",
        "    df2.loc[ (df2['num_window'] == i) ,j[0] ] = val"
      ],
      "metadata": {
        "id": "gWfjzs6KjNYC"
      },
      "execution_count": null,
      "outputs": []
    },
    {
      "cell_type": "code",
      "source": [
        "for j in zip(empty_acceleration_cols, attributes2):\n",
        "  for i in df2[df2[j[0]].isna()]['num_window'].unique():\n",
        "    val = df2[(df2['num_window'] == i)][j[1]].var()    \n",
        "    df2.loc[(df2['num_window'] == i),j[0]] = val"
      ],
      "metadata": {
        "id": "Xf8wGqBezibr"
      },
      "execution_count": null,
      "outputs": []
    },
    {
      "cell_type": "code",
      "source": [
        "del_cols = list(df2.columns[44:82])\n",
        "del_cols_2 = list(df2.columns[120:-1])\n",
        "del_cols_3 = list(df2.columns[0:6])\n",
        "df2.drop(del_cols, axis=1, inplace=True)\n",
        "df2.drop(del_cols_2, axis=1, inplace=True)\n",
        "df2.drop(del_cols_3, axis=1, inplace=True)"
      ],
      "metadata": {
        "id": "eyjx_Ka3wz8o"
      },
      "execution_count": null,
      "outputs": []
    },
    {
      "cell_type": "code",
      "source": [
        "df2.columns[120:-1]"
      ],
      "metadata": {
        "id": "qTiMtol-zT9v",
        "outputId": "93aadcb9-23ad-4b91-9810-57f7ba09ccce",
        "colab": {
          "base_uri": "https://localhost:8080/"
        }
      },
      "execution_count": null,
      "outputs": [
        {
          "output_type": "execute_result",
          "data": {
            "text/plain": [
              "Index([], dtype='object')"
            ]
          },
          "metadata": {},
          "execution_count": 406
        }
      ]
    },
    {
      "cell_type": "code",
      "source": [
        "len(df2.columns)"
      ],
      "metadata": {
        "id": "_GujeGHLyeRk",
        "outputId": "c0b768d8-caa6-4185-9d35-066b730fbecf",
        "colab": {
          "base_uri": "https://localhost:8080/"
        }
      },
      "execution_count": null,
      "outputs": [
        {
          "output_type": "execute_result",
          "data": {
            "text/plain": [
              "77"
            ]
          },
          "metadata": {},
          "execution_count": 407
        }
      ]
    },
    {
      "cell_type": "code",
      "source": [
        "print(df2.columns)"
      ],
      "metadata": {
        "id": "lVoIUsEc14LG",
        "colab": {
          "base_uri": "https://localhost:8080/"
        },
        "outputId": "d6064e48-4fa6-49fc-8fa8-b0acd1c1c903"
      },
      "execution_count": null,
      "outputs": [
        {
          "output_type": "stream",
          "name": "stdout",
          "text": [
            "Index(['roll_belt', 'pitch_belt', 'yaw_belt', 'total_accel_belt',\n",
            "       'kurtosis_roll_belt', 'kurtosis_picth_belt', 'kurtosis_yaw_belt',\n",
            "       'skewness_roll_belt', 'skewness_pitch_belt', 'skewness_yaw_belt',\n",
            "       'max_roll_belt', 'max_picth_belt', 'max_yaw_belt', 'min_roll_belt',\n",
            "       'min_pitch_belt', 'min_yaw_belt', 'amplitude_roll_belt',\n",
            "       'amplitude_pitch_belt', 'amplitude_yaw_belt', 'var_total_accel_belt',\n",
            "       'avg_roll_belt', 'stddev_roll_belt', 'var_roll_belt', 'avg_pitch_belt',\n",
            "       'stddev_pitch_belt', 'var_pitch_belt', 'avg_yaw_belt',\n",
            "       'stddev_yaw_belt', 'var_yaw_belt', 'gyros_belt_x', 'gyros_belt_y',\n",
            "       'gyros_belt_z', 'accel_belt_x', 'accel_belt_y', 'accel_belt_z',\n",
            "       'magnet_belt_x', 'magnet_belt_y', 'magnet_belt_z', 'roll_dumbbell',\n",
            "       'pitch_dumbbell', 'yaw_dumbbell', 'kurtosis_roll_dumbbell',\n",
            "       'kurtosis_picth_dumbbell', 'kurtosis_yaw_dumbbell',\n",
            "       'skewness_roll_dumbbell', 'skewness_pitch_dumbbell',\n",
            "       'skewness_yaw_dumbbell', 'max_roll_dumbbell', 'max_picth_dumbbell',\n",
            "       'max_yaw_dumbbell', 'min_roll_dumbbell', 'min_pitch_dumbbell',\n",
            "       'min_yaw_dumbbell', 'amplitude_roll_dumbbell',\n",
            "       'amplitude_pitch_dumbbell', 'amplitude_yaw_dumbbell',\n",
            "       'total_accel_dumbbell', 'var_accel_dumbbell', 'avg_roll_dumbbell',\n",
            "       'stddev_roll_dumbbell', 'var_roll_dumbbell', 'avg_pitch_dumbbell',\n",
            "       'stddev_pitch_dumbbell', 'var_pitch_dumbbell', 'avg_yaw_dumbbell',\n",
            "       'stddev_yaw_dumbbell', 'var_yaw_dumbbell', 'gyros_dumbbell_x',\n",
            "       'gyros_dumbbell_y', 'gyros_dumbbell_z', 'accel_dumbbell_x',\n",
            "       'accel_dumbbell_y', 'accel_dumbbell_z', 'magnet_dumbbell_x',\n",
            "       'magnet_dumbbell_y', 'magnet_dumbbell_z', 'classe'],\n",
            "      dtype='object')\n"
          ]
        }
      ]
    },
    {
      "cell_type": "code",
      "source": [
        "print('Column Name', '  No of Missing Values\\n')\n",
        "for i in zip(df2.columns, df2.isna().sum()):\n",
        "  print(i[0], '\\t\\t', i[1])"
      ],
      "metadata": {
        "id": "m3sYsbpGFDFv",
        "colab": {
          "base_uri": "https://localhost:8080/"
        },
        "outputId": "d7a6f5f1-e3e7-46ba-ff52-1b2fa6a41ae1"
      },
      "execution_count": null,
      "outputs": [
        {
          "output_type": "stream",
          "name": "stdout",
          "text": [
            "Column Name   No of Missing Values\n",
            "\n",
            "roll_belt \t\t 0\n",
            "pitch_belt \t\t 0\n",
            "yaw_belt \t\t 0\n",
            "total_accel_belt \t\t 0\n",
            "kurtosis_roll_belt \t\t 12\n",
            "kurtosis_picth_belt \t\t 12\n",
            "kurtosis_yaw_belt \t\t 12\n",
            "skewness_roll_belt \t\t 6\n",
            "skewness_pitch_belt \t\t 6\n",
            "skewness_yaw_belt \t\t 6\n",
            "max_roll_belt \t\t 0\n",
            "max_picth_belt \t\t 0\n",
            "max_yaw_belt \t\t 0\n",
            "min_roll_belt \t\t 0\n",
            "min_pitch_belt \t\t 0\n",
            "min_yaw_belt \t\t 0\n",
            "amplitude_roll_belt \t\t 0\n",
            "amplitude_pitch_belt \t\t 0\n",
            "amplitude_yaw_belt \t\t 0\n",
            "var_total_accel_belt \t\t 2\n",
            "avg_roll_belt \t\t 0\n",
            "stddev_roll_belt \t\t 2\n",
            "var_roll_belt \t\t 2\n",
            "avg_pitch_belt \t\t 0\n",
            "stddev_pitch_belt \t\t 2\n",
            "var_pitch_belt \t\t 2\n",
            "avg_yaw_belt \t\t 0\n",
            "stddev_yaw_belt \t\t 2\n",
            "var_yaw_belt \t\t 2\n",
            "gyros_belt_x \t\t 0\n",
            "gyros_belt_y \t\t 0\n",
            "gyros_belt_z \t\t 0\n",
            "accel_belt_x \t\t 0\n",
            "accel_belt_y \t\t 0\n",
            "accel_belt_z \t\t 0\n",
            "magnet_belt_x \t\t 0\n",
            "magnet_belt_y \t\t 0\n",
            "magnet_belt_z \t\t 0\n",
            "roll_dumbbell \t\t 1\n",
            "pitch_dumbbell \t\t 0\n",
            "yaw_dumbbell \t\t 0\n",
            "kurtosis_roll_dumbbell \t\t 12\n",
            "kurtosis_picth_dumbbell \t\t 12\n",
            "kurtosis_yaw_dumbbell \t\t 12\n",
            "skewness_roll_dumbbell \t\t 6\n",
            "skewness_pitch_dumbbell \t\t 6\n",
            "skewness_yaw_dumbbell \t\t 6\n",
            "max_roll_dumbbell \t\t 0\n",
            "max_picth_dumbbell \t\t 0\n",
            "max_yaw_dumbbell \t\t 0\n",
            "min_roll_dumbbell \t\t 0\n",
            "min_pitch_dumbbell \t\t 0\n",
            "min_yaw_dumbbell \t\t 0\n",
            "amplitude_roll_dumbbell \t\t 0\n",
            "amplitude_pitch_dumbbell \t\t 0\n",
            "amplitude_yaw_dumbbell \t\t 0\n",
            "total_accel_dumbbell \t\t 0\n",
            "var_accel_dumbbell \t\t 2\n",
            "avg_roll_dumbbell \t\t 0\n",
            "stddev_roll_dumbbell \t\t 2\n",
            "var_roll_dumbbell \t\t 2\n",
            "avg_pitch_dumbbell \t\t 0\n",
            "stddev_pitch_dumbbell \t\t 2\n",
            "var_pitch_dumbbell \t\t 2\n",
            "avg_yaw_dumbbell \t\t 0\n",
            "stddev_yaw_dumbbell \t\t 2\n",
            "var_yaw_dumbbell \t\t 2\n",
            "gyros_dumbbell_x \t\t 0\n",
            "gyros_dumbbell_y \t\t 0\n",
            "gyros_dumbbell_z \t\t 0\n",
            "accel_dumbbell_x \t\t 0\n",
            "accel_dumbbell_y \t\t 0\n",
            "accel_dumbbell_z \t\t 0\n",
            "magnet_dumbbell_x \t\t 0\n",
            "magnet_dumbbell_y \t\t 0\n",
            "magnet_dumbbell_z \t\t 0\n",
            "classe \t\t 0\n"
          ]
        }
      ]
    },
    {
      "cell_type": "code",
      "source": [
        "print(len(df2))"
      ],
      "metadata": {
        "id": "Bi4HnEaOpJkI",
        "outputId": "421ab035-2536-425c-a073-aa01edc4e924",
        "colab": {
          "base_uri": "https://localhost:8080/"
        }
      },
      "execution_count": null,
      "outputs": [
        {
          "output_type": "stream",
          "name": "stdout",
          "text": [
            "39242\n"
          ]
        }
      ]
    },
    {
      "cell_type": "code",
      "source": [
        "df2.dropna(axis=0, inplace=True)"
      ],
      "metadata": {
        "id": "LGi3WXRj17Fa"
      },
      "execution_count": null,
      "outputs": []
    },
    {
      "cell_type": "code",
      "source": [
        "print(len(df2))"
      ],
      "metadata": {
        "id": "-TPFYLZT2Y-7",
        "colab": {
          "base_uri": "https://localhost:8080/"
        },
        "outputId": "5382cdbf-c26e-45a2-e94e-8853fe4a47a9"
      },
      "execution_count": null,
      "outputs": [
        {
          "output_type": "stream",
          "name": "stdout",
          "text": [
            "39229\n"
          ]
        }
      ]
    },
    {
      "cell_type": "code",
      "source": [
        "df2.to_csv('Preprocessed_Exercise_Deep_Learning.csv')"
      ],
      "metadata": {
        "id": "KN303vPIFZSl"
      },
      "execution_count": null,
      "outputs": []
    }
  ]
}