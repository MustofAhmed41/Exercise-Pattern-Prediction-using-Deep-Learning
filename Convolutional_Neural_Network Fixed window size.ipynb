{
  "nbformat": 4,
  "nbformat_minor": 0,
  "metadata": {
    "colab": {
      "name": "Softcom Project CNN Time series.ipynb",
      "provenance": [],
      "collapsed_sections": []
    },
    "kernelspec": {
      "name": "python3",
      "display_name": "Python 3"
    },
    "language_info": {
      "name": "python"
    }
  },
  "cells": [
    {
      "cell_type": "markdown",
      "source": [
        "# Importing Library\n"
      ],
      "metadata": {
        "id": "Aco8_7aTjIY4"
      }
    },
    {
      "cell_type": "code",
      "execution_count": null,
      "metadata": {
        "id": "UFSeVHqvtEOW"
      },
      "outputs": [],
      "source": [
        "import numpy as np\n",
        "import seaborn as sns\n",
        "import matplotlib.pyplot as plt\n",
        "import pandas as pd"
      ]
    },
    {
      "cell_type": "code",
      "source": [
        "from tensorflow.keras.utils import to_categorical\n",
        "from numpy import mean\n",
        "from numpy import std\n",
        "from numpy import dstack\n",
        "from keras.models import Sequential\n",
        "from keras.layers import Dense\n",
        "from keras.layers import Flatten\n",
        "from keras.layers import Dropout\n",
        "from keras.layers.convolutional import Conv1D\n",
        "from keras.layers.convolutional import MaxPooling1D\n",
        "from tensorflow.keras.utils import to_categorical\n",
        "from keras.layers import Input, Dense, LSTM, MaxPooling1D, Conv1D"
      ],
      "metadata": {
        "id": "3Unwu00iywG0"
      },
      "execution_count": null,
      "outputs": []
    },
    {
      "cell_type": "markdown",
      "source": [
        "# Loading Data"
      ],
      "metadata": {
        "id": "X2S9eoH_jMA4"
      }
    },
    {
      "cell_type": "code",
      "source": [
        "from google.colab import drive\n",
        "drive.mount('/content/drive')"
      ],
      "metadata": {
        "colab": {
          "base_uri": "https://localhost:8080/"
        },
        "id": "pZqrtwUXujjz",
        "outputId": "4816db1f-20fb-4332-beb1-44b8506d1c3d"
      },
      "execution_count": null,
      "outputs": [
        {
          "output_type": "stream",
          "name": "stdout",
          "text": [
            "Drive already mounted at /content/drive; to attempt to forcibly remount, call drive.mount(\"/content/drive\", force_remount=True).\n"
          ]
        }
      ]
    },
    {
      "cell_type": "code",
      "source": [
        "cd'/content/drive/MyDrive/Colab Notebooks/Dataset/Softcom Assignment 1'"
      ],
      "metadata": {
        "colab": {
          "base_uri": "https://localhost:8080/"
        },
        "id": "NlaNf6Vtuw2W",
        "outputId": "7467a40c-54ab-418d-88cf-78b729a14892"
      },
      "execution_count": null,
      "outputs": [
        {
          "output_type": "stream",
          "name": "stdout",
          "text": [
            "/content/drive/MyDrive/Colab Notebooks/Dataset/Softcom Assignment 1\n"
          ]
        }
      ]
    },
    {
      "cell_type": "code",
      "source": [
        "load = pd.read_csv('Preprocessed_Exercise_Deep_Learning.csv');"
      ],
      "metadata": {
        "id": "RgOM15cwtJXt"
      },
      "execution_count": null,
      "outputs": []
    },
    {
      "cell_type": "code",
      "source": [
        "df = load.copy()"
      ],
      "metadata": {
        "id": "WX5NgKqQ0q8d"
      },
      "execution_count": null,
      "outputs": []
    },
    {
      "cell_type": "code",
      "source": [
        "df.head()"
      ],
      "metadata": {
        "colab": {
          "base_uri": "https://localhost:8080/",
          "height": 317
        },
        "id": "zItJbWY-vBOC",
        "outputId": "4ca25dfe-08ba-4692-d59c-17721e0ab7b0"
      },
      "execution_count": null,
      "outputs": [
        {
          "output_type": "execute_result",
          "data": {
            "text/plain": [
              "   Unnamed: 0 user_name  raw_timestamp_part_1  raw_timestamp_part_2  \\\n",
              "0           0    eurico          1.322490e+09               34670.0   \n",
              "1           1    eurico          1.322490e+09               62641.0   \n",
              "2           2    eurico          1.322490e+09               70653.0   \n",
              "3           3    eurico          1.322490e+09               82654.0   \n",
              "4           4    eurico          1.322490e+09               90637.0   \n",
              "\n",
              "     cvtd_timestamp new_window  num_window  roll_belt  pitch_belt  yaw_belt  \\\n",
              "0  28/11/2011 14:15         no         1.0       3.70        41.6     -82.8   \n",
              "1  28/11/2011 14:15         no         1.0       3.66        42.8     -82.5   \n",
              "2  28/11/2011 14:15         no         1.0       3.58        43.7     -82.3   \n",
              "3  28/11/2011 14:15         no         1.0       3.56        44.4     -82.1   \n",
              "4  28/11/2011 14:15         no         1.0       3.57        45.1     -81.9   \n",
              "\n",
              "   ...  gyros_dumbbell_x  gyros_dumbbell_y  gyros_dumbbell_z  \\\n",
              "0  ...             -0.31              0.16              0.08   \n",
              "1  ...             -0.31              0.14              0.07   \n",
              "2  ...             -0.31              0.16              0.05   \n",
              "3  ...             -0.31              0.16              0.07   \n",
              "4  ...             -0.31              0.14              0.07   \n",
              "\n",
              "   accel_dumbbell_x  accel_dumbbell_y  accel_dumbbell_z  magnet_dumbbell_x  \\\n",
              "0               5.0              21.0              37.0             -471.0   \n",
              "1               4.0              22.0              35.0             -472.0   \n",
              "2               3.0              23.0              37.0             -468.0   \n",
              "3               5.0              24.0              38.0             -469.0   \n",
              "4               5.0              23.0              37.0             -468.0   \n",
              "\n",
              "   magnet_dumbbell_y  magnet_dumbbell_z  classe  \n",
              "0              191.0              277.0       E  \n",
              "1              184.0              281.0       E  \n",
              "2              190.0              275.0       E  \n",
              "3              184.0              285.0       E  \n",
              "4              189.0              292.0       E  \n",
              "\n",
              "[5 rows x 84 columns]"
            ],
            "text/html": [
              "\n",
              "  <div id=\"df-ae1e273a-26bd-4bd5-849f-b41363e44f7d\">\n",
              "    <div class=\"colab-df-container\">\n",
              "      <div>\n",
              "<style scoped>\n",
              "    .dataframe tbody tr th:only-of-type {\n",
              "        vertical-align: middle;\n",
              "    }\n",
              "\n",
              "    .dataframe tbody tr th {\n",
              "        vertical-align: top;\n",
              "    }\n",
              "\n",
              "    .dataframe thead th {\n",
              "        text-align: right;\n",
              "    }\n",
              "</style>\n",
              "<table border=\"1\" class=\"dataframe\">\n",
              "  <thead>\n",
              "    <tr style=\"text-align: right;\">\n",
              "      <th></th>\n",
              "      <th>Unnamed: 0</th>\n",
              "      <th>user_name</th>\n",
              "      <th>raw_timestamp_part_1</th>\n",
              "      <th>raw_timestamp_part_2</th>\n",
              "      <th>cvtd_timestamp</th>\n",
              "      <th>new_window</th>\n",
              "      <th>num_window</th>\n",
              "      <th>roll_belt</th>\n",
              "      <th>pitch_belt</th>\n",
              "      <th>yaw_belt</th>\n",
              "      <th>...</th>\n",
              "      <th>gyros_dumbbell_x</th>\n",
              "      <th>gyros_dumbbell_y</th>\n",
              "      <th>gyros_dumbbell_z</th>\n",
              "      <th>accel_dumbbell_x</th>\n",
              "      <th>accel_dumbbell_y</th>\n",
              "      <th>accel_dumbbell_z</th>\n",
              "      <th>magnet_dumbbell_x</th>\n",
              "      <th>magnet_dumbbell_y</th>\n",
              "      <th>magnet_dumbbell_z</th>\n",
              "      <th>classe</th>\n",
              "    </tr>\n",
              "  </thead>\n",
              "  <tbody>\n",
              "    <tr>\n",
              "      <th>0</th>\n",
              "      <td>0</td>\n",
              "      <td>eurico</td>\n",
              "      <td>1.322490e+09</td>\n",
              "      <td>34670.0</td>\n",
              "      <td>28/11/2011 14:15</td>\n",
              "      <td>no</td>\n",
              "      <td>1.0</td>\n",
              "      <td>3.70</td>\n",
              "      <td>41.6</td>\n",
              "      <td>-82.8</td>\n",
              "      <td>...</td>\n",
              "      <td>-0.31</td>\n",
              "      <td>0.16</td>\n",
              "      <td>0.08</td>\n",
              "      <td>5.0</td>\n",
              "      <td>21.0</td>\n",
              "      <td>37.0</td>\n",
              "      <td>-471.0</td>\n",
              "      <td>191.0</td>\n",
              "      <td>277.0</td>\n",
              "      <td>E</td>\n",
              "    </tr>\n",
              "    <tr>\n",
              "      <th>1</th>\n",
              "      <td>1</td>\n",
              "      <td>eurico</td>\n",
              "      <td>1.322490e+09</td>\n",
              "      <td>62641.0</td>\n",
              "      <td>28/11/2011 14:15</td>\n",
              "      <td>no</td>\n",
              "      <td>1.0</td>\n",
              "      <td>3.66</td>\n",
              "      <td>42.8</td>\n",
              "      <td>-82.5</td>\n",
              "      <td>...</td>\n",
              "      <td>-0.31</td>\n",
              "      <td>0.14</td>\n",
              "      <td>0.07</td>\n",
              "      <td>4.0</td>\n",
              "      <td>22.0</td>\n",
              "      <td>35.0</td>\n",
              "      <td>-472.0</td>\n",
              "      <td>184.0</td>\n",
              "      <td>281.0</td>\n",
              "      <td>E</td>\n",
              "    </tr>\n",
              "    <tr>\n",
              "      <th>2</th>\n",
              "      <td>2</td>\n",
              "      <td>eurico</td>\n",
              "      <td>1.322490e+09</td>\n",
              "      <td>70653.0</td>\n",
              "      <td>28/11/2011 14:15</td>\n",
              "      <td>no</td>\n",
              "      <td>1.0</td>\n",
              "      <td>3.58</td>\n",
              "      <td>43.7</td>\n",
              "      <td>-82.3</td>\n",
              "      <td>...</td>\n",
              "      <td>-0.31</td>\n",
              "      <td>0.16</td>\n",
              "      <td>0.05</td>\n",
              "      <td>3.0</td>\n",
              "      <td>23.0</td>\n",
              "      <td>37.0</td>\n",
              "      <td>-468.0</td>\n",
              "      <td>190.0</td>\n",
              "      <td>275.0</td>\n",
              "      <td>E</td>\n",
              "    </tr>\n",
              "    <tr>\n",
              "      <th>3</th>\n",
              "      <td>3</td>\n",
              "      <td>eurico</td>\n",
              "      <td>1.322490e+09</td>\n",
              "      <td>82654.0</td>\n",
              "      <td>28/11/2011 14:15</td>\n",
              "      <td>no</td>\n",
              "      <td>1.0</td>\n",
              "      <td>3.56</td>\n",
              "      <td>44.4</td>\n",
              "      <td>-82.1</td>\n",
              "      <td>...</td>\n",
              "      <td>-0.31</td>\n",
              "      <td>0.16</td>\n",
              "      <td>0.07</td>\n",
              "      <td>5.0</td>\n",
              "      <td>24.0</td>\n",
              "      <td>38.0</td>\n",
              "      <td>-469.0</td>\n",
              "      <td>184.0</td>\n",
              "      <td>285.0</td>\n",
              "      <td>E</td>\n",
              "    </tr>\n",
              "    <tr>\n",
              "      <th>4</th>\n",
              "      <td>4</td>\n",
              "      <td>eurico</td>\n",
              "      <td>1.322490e+09</td>\n",
              "      <td>90637.0</td>\n",
              "      <td>28/11/2011 14:15</td>\n",
              "      <td>no</td>\n",
              "      <td>1.0</td>\n",
              "      <td>3.57</td>\n",
              "      <td>45.1</td>\n",
              "      <td>-81.9</td>\n",
              "      <td>...</td>\n",
              "      <td>-0.31</td>\n",
              "      <td>0.14</td>\n",
              "      <td>0.07</td>\n",
              "      <td>5.0</td>\n",
              "      <td>23.0</td>\n",
              "      <td>37.0</td>\n",
              "      <td>-468.0</td>\n",
              "      <td>189.0</td>\n",
              "      <td>292.0</td>\n",
              "      <td>E</td>\n",
              "    </tr>\n",
              "  </tbody>\n",
              "</table>\n",
              "<p>5 rows × 84 columns</p>\n",
              "</div>\n",
              "      <button class=\"colab-df-convert\" onclick=\"convertToInteractive('df-ae1e273a-26bd-4bd5-849f-b41363e44f7d')\"\n",
              "              title=\"Convert this dataframe to an interactive table.\"\n",
              "              style=\"display:none;\">\n",
              "        \n",
              "  <svg xmlns=\"http://www.w3.org/2000/svg\" height=\"24px\"viewBox=\"0 0 24 24\"\n",
              "       width=\"24px\">\n",
              "    <path d=\"M0 0h24v24H0V0z\" fill=\"none\"/>\n",
              "    <path d=\"M18.56 5.44l.94 2.06.94-2.06 2.06-.94-2.06-.94-.94-2.06-.94 2.06-2.06.94zm-11 1L8.5 8.5l.94-2.06 2.06-.94-2.06-.94L8.5 2.5l-.94 2.06-2.06.94zm10 10l.94 2.06.94-2.06 2.06-.94-2.06-.94-.94-2.06-.94 2.06-2.06.94z\"/><path d=\"M17.41 7.96l-1.37-1.37c-.4-.4-.92-.59-1.43-.59-.52 0-1.04.2-1.43.59L10.3 9.45l-7.72 7.72c-.78.78-.78 2.05 0 2.83L4 21.41c.39.39.9.59 1.41.59.51 0 1.02-.2 1.41-.59l7.78-7.78 2.81-2.81c.8-.78.8-2.07 0-2.86zM5.41 20L4 18.59l7.72-7.72 1.47 1.35L5.41 20z\"/>\n",
              "  </svg>\n",
              "      </button>\n",
              "      \n",
              "  <style>\n",
              "    .colab-df-container {\n",
              "      display:flex;\n",
              "      flex-wrap:wrap;\n",
              "      gap: 12px;\n",
              "    }\n",
              "\n",
              "    .colab-df-convert {\n",
              "      background-color: #E8F0FE;\n",
              "      border: none;\n",
              "      border-radius: 50%;\n",
              "      cursor: pointer;\n",
              "      display: none;\n",
              "      fill: #1967D2;\n",
              "      height: 32px;\n",
              "      padding: 0 0 0 0;\n",
              "      width: 32px;\n",
              "    }\n",
              "\n",
              "    .colab-df-convert:hover {\n",
              "      background-color: #E2EBFA;\n",
              "      box-shadow: 0px 1px 2px rgba(60, 64, 67, 0.3), 0px 1px 3px 1px rgba(60, 64, 67, 0.15);\n",
              "      fill: #174EA6;\n",
              "    }\n",
              "\n",
              "    [theme=dark] .colab-df-convert {\n",
              "      background-color: #3B4455;\n",
              "      fill: #D2E3FC;\n",
              "    }\n",
              "\n",
              "    [theme=dark] .colab-df-convert:hover {\n",
              "      background-color: #434B5C;\n",
              "      box-shadow: 0px 1px 3px 1px rgba(0, 0, 0, 0.15);\n",
              "      filter: drop-shadow(0px 1px 2px rgba(0, 0, 0, 0.3));\n",
              "      fill: #FFFFFF;\n",
              "    }\n",
              "  </style>\n",
              "\n",
              "      <script>\n",
              "        const buttonEl =\n",
              "          document.querySelector('#df-ae1e273a-26bd-4bd5-849f-b41363e44f7d button.colab-df-convert');\n",
              "        buttonEl.style.display =\n",
              "          google.colab.kernel.accessAllowed ? 'block' : 'none';\n",
              "\n",
              "        async function convertToInteractive(key) {\n",
              "          const element = document.querySelector('#df-ae1e273a-26bd-4bd5-849f-b41363e44f7d');\n",
              "          const dataTable =\n",
              "            await google.colab.kernel.invokeFunction('convertToInteractive',\n",
              "                                                     [key], {});\n",
              "          if (!dataTable) return;\n",
              "\n",
              "          const docLinkHtml = 'Like what you see? Visit the ' +\n",
              "            '<a target=\"_blank\" href=https://colab.research.google.com/notebooks/data_table.ipynb>data table notebook</a>'\n",
              "            + ' to learn more about interactive tables.';\n",
              "          element.innerHTML = '';\n",
              "          dataTable['output_type'] = 'display_data';\n",
              "          await google.colab.output.renderOutput(dataTable, element);\n",
              "          const docLink = document.createElement('div');\n",
              "          docLink.innerHTML = docLinkHtml;\n",
              "          element.appendChild(docLink);\n",
              "        }\n",
              "      </script>\n",
              "    </div>\n",
              "  </div>\n",
              "  "
            ]
          },
          "metadata": {},
          "execution_count": 155
        }
      ]
    },
    {
      "cell_type": "markdown",
      "source": [
        "# Converting dataframe to numpy arrays"
      ],
      "metadata": {
        "id": "bL-KxIa8jO9q"
      }
    },
    {
      "cell_type": "code",
      "source": [
        "df2 = pd.DataFrame(data = np.array(df['new_window']), columns=['new_window'] )\n",
        "df2['roll_belt'], df2['pitch_belt'], df2['yaw_belt'] = np.array(df['roll_belt']),  np.array(df['pitch_belt']), np.array(df['yaw_belt'])\n",
        "df2['roll_dumbbell'], df2['pitch_dumbbell'], df2['yaw_dumbbell']  = np.array(df['roll_dumbbell']),  np.array(df['pitch_dumbbell']), np.array(df['yaw_dumbbell'])\n",
        "df2['total_accel_belt'], df2['total_accel_dumbbell']  = np.array(df['total_accel_belt']),  np.array(df['total_accel_dumbbell'])\n",
        "df2['gyros_belt_x'], df2['gyros_belt_y'], df2['gyros_belt_z']  = np.array(df['gyros_belt_x']),  np.array(df['gyros_belt_y']), np.array(df['gyros_belt_z'])\n",
        "df2['accel_belt_x'], df2['accel_belt_y'], df2['accel_belt_z']  = np.array(df['accel_belt_x']),  np.array(df['accel_belt_y']), np.array(df['accel_belt_z'])\n",
        "df2['magnet_belt_x'], df2['magnet_belt_y'], df2['magnet_belt_z']  = np.array(df['magnet_belt_x']),  np.array(df['magnet_belt_y']), np.array(df['magnet_belt_z'])\n",
        "df2['gyros_dumbbell_x'], df2['gyros_dumbbell_y'], df2['gyros_dumbbell_z']  = np.array(df['gyros_dumbbell_x']),  np.array(df['gyros_dumbbell_y']), np.array(df['gyros_dumbbell_z'])\n",
        "df2['accel_dumbbell_x'], df2['accel_dumbbell_y'], df2['accel_dumbbell_z']  = np.array(df['accel_dumbbell_x']),  np.array(df['accel_dumbbell_y']), np.array(df['accel_dumbbell_z'])\n",
        "df2['magnet_dumbbell_x'], df2['magnet_dumbbell_y'], df2['magnet_dumbbell_z']  = np.array(df['magnet_dumbbell_x']),  np.array(df['magnet_dumbbell_y']), np.array(df['magnet_dumbbell_z'])\n",
        "df2['num_window'] = np.array(df['num_window'])\n",
        "df2['classe'] =  np.array(df['classe'])"
      ],
      "metadata": {
        "id": "3slp9sgWhk9q"
      },
      "execution_count": null,
      "outputs": []
    },
    {
      "cell_type": "code",
      "source": [
        "df2.columns"
      ],
      "metadata": {
        "colab": {
          "base_uri": "https://localhost:8080/"
        },
        "id": "m-cyQkdBjcMr",
        "outputId": "4c7a29ab-17a7-4e92-8637-85568039ecd6"
      },
      "execution_count": null,
      "outputs": [
        {
          "output_type": "execute_result",
          "data": {
            "text/plain": [
              "Index(['new_window', 'roll_belt', 'pitch_belt', 'yaw_belt', 'roll_dumbbell',\n",
              "       'pitch_dumbbell', 'yaw_dumbbell', 'total_accel_belt',\n",
              "       'total_accel_dumbbell', 'gyros_belt_x', 'gyros_belt_y', 'gyros_belt_z',\n",
              "       'accel_belt_x', 'accel_belt_y', 'accel_belt_z', 'magnet_belt_x',\n",
              "       'magnet_belt_y', 'magnet_belt_z', 'gyros_dumbbell_x',\n",
              "       'gyros_dumbbell_y', 'gyros_dumbbell_z', 'accel_dumbbell_x',\n",
              "       'accel_dumbbell_y', 'accel_dumbbell_z', 'magnet_dumbbell_x',\n",
              "       'magnet_dumbbell_y', 'magnet_dumbbell_z', 'num_window', 'classe'],\n",
              "      dtype='object')"
            ]
          },
          "metadata": {},
          "execution_count": 157
        }
      ]
    },
    {
      "cell_type": "markdown",
      "source": [
        "# Creating data of fixed window size"
      ],
      "metadata": {
        "id": "FB8Z7975jW0f"
      }
    },
    {
      "cell_type": "code",
      "source": [
        "total = 0\n",
        "count = 0\n",
        "dropping_threshold = 27\n",
        "for i in df2['num_window'].unique():\n",
        "    val = len( df2[ df2['num_window'] == i ])\n",
        "    total += val\n",
        "    if val <=dropping_threshold:\n",
        "        count += 1\n",
        "print('Total : ', df2['num_window'].nunique())\n",
        "print('Average : ', total/df2['num_window'].nunique())\n",
        "print('Dropped : ', count)"
      ],
      "metadata": {
        "colab": {
          "base_uri": "https://localhost:8080/"
        },
        "id": "CFfSDs06z1bC",
        "outputId": "3e7d8fbd-0be4-405d-f1ce-ea800dd49757"
      },
      "execution_count": null,
      "outputs": [
        {
          "output_type": "stream",
          "name": "stdout",
          "text": [
            "Total :  855\n",
            "Average :  45.88187134502924\n",
            "Dropped :  39\n"
          ]
        }
      ]
    },
    {
      "cell_type": "code",
      "source": [
        "# lst = []\n",
        "# for i in df2['num_window'].unique():  \n",
        "#     lst.append(len( df2[ df2['num_window'] == i ]))\n",
        "# max(lst)"
      ],
      "metadata": {
        "id": "gxZPR54p0MJU"
      },
      "execution_count": null,
      "outputs": []
    },
    {
      "cell_type": "code",
      "source": [
        "#Dropping Code\n",
        "print(len(df2))\n",
        "for i in df2['num_window'].unique():    \n",
        "    temp = df2[df2['num_window'] == i]\n",
        "    if(len(temp)<dropping_threshold):\n",
        "        df2.drop(df2[df2['num_window'] == i].index, inplace=True)\n",
        "        # print(len(temp), i ) \n",
        "print(len(df2))"
      ],
      "metadata": {
        "colab": {
          "base_uri": "https://localhost:8080/"
        },
        "id": "xJAKIFsak-1t",
        "outputId": "e5c9e6a6-96d9-4785-c7ab-6ed7365c0a62"
      },
      "execution_count": null,
      "outputs": [
        {
          "output_type": "stream",
          "name": "stdout",
          "text": [
            "39229\n",
            "38525\n"
          ]
        }
      ]
    },
    {
      "cell_type": "code",
      "source": [
        "def impute_classe(x):\n",
        "  if x == 'A':\n",
        "    return 5\n",
        "  elif x =='B':\n",
        "    return 4\n",
        "  elif x=='C':\n",
        "    return 3\n",
        "  elif x=='D':\n",
        "    return 2\n",
        "  elif x=='E':\n",
        "    return 1"
      ],
      "metadata": {
        "id": "_0gWHvYJl_P4"
      },
      "execution_count": null,
      "outputs": []
    },
    {
      "cell_type": "code",
      "source": [
        "df2['classe'] = df2['classe'].apply(impute_classe)"
      ],
      "metadata": {
        "id": "aPZRf7PTl_TX"
      },
      "execution_count": null,
      "outputs": []
    },
    {
      "cell_type": "code",
      "source": [
        "column_names = df2.drop(['classe', 'new_window', 'num_window'], axis=1).columns"
      ],
      "metadata": {
        "id": "wmPret0QtxHp"
      },
      "execution_count": null,
      "outputs": []
    },
    {
      "cell_type": "code",
      "source": [
        "global v_stacked\n",
        "global v_stacked_2\n",
        "window_size = dropping_threshold\n",
        "counter = 0\n",
        "v_stacked_2 = np.zeros((1,1))\n",
        "target_label = []\n",
        "for i in df2['num_window'].unique():\n",
        "    temp = df2[df2['num_window'] == i]\n",
        "    label = df2[df2['num_window'] == i]['classe'].iloc[0]\n",
        "    n = int(len(temp)/window_size)\n",
        "    for j in range(0,n):\n",
        "        v_stacked = np.zeros(shape=(1, 1))\n",
        "        for k in column_names:\n",
        "            temp2 = df2[df2['num_window'] == i][k].to_numpy()\n",
        "            temp2 = temp2[j*window_size:(j*window_size) + window_size]\n",
        "            temp2 = temp2.reshape(-1,1)          \n",
        "            if v_stacked.shape[0] == 1 and v_stacked.shape[1] == 1:\n",
        "                v_stacked = temp2\n",
        "            else:\n",
        "                v_stacked = np.dstack((v_stacked, temp2))   \n",
        "        target_label.append(label)        \n",
        "        if v_stacked_2.shape[0] == 1 and v_stacked_2.shape[1] == 1:\n",
        "            v_stacked_2 = v_stacked.reshape(1,window_size, len(column_names))\n",
        "        else:\n",
        "            v_stacked_2 = np.vstack((v_stacked_2, v_stacked.reshape(1,window_size,len(column_names))))"
      ],
      "metadata": {
        "id": "gFo76VYjl_Wj"
      },
      "execution_count": null,
      "outputs": []
    },
    {
      "cell_type": "code",
      "source": [
        "print(v_stacked_2.shape)"
      ],
      "metadata": {
        "colab": {
          "base_uri": "https://localhost:8080/"
        },
        "id": "f33M2bJNuLC0",
        "outputId": "9aff784f-4372-4c70-c879-136a0de1a845"
      },
      "execution_count": null,
      "outputs": [
        {
          "output_type": "stream",
          "name": "stdout",
          "text": [
            "(842, 30, 26)\n"
          ]
        }
      ]
    },
    {
      "cell_type": "code",
      "source": [
        "print(v_stacked_2[0].shape)"
      ],
      "metadata": {
        "colab": {
          "base_uri": "https://localhost:8080/"
        },
        "id": "cIjRPUHxwlnd",
        "outputId": "0e40a0b1-c55c-4661-c7d3-c8bec406c750"
      },
      "execution_count": null,
      "outputs": [
        {
          "output_type": "stream",
          "name": "stdout",
          "text": [
            "(30, 26)\n"
          ]
        }
      ]
    },
    {
      "cell_type": "code",
      "source": [
        "print(len(target_label))"
      ],
      "metadata": {
        "colab": {
          "base_uri": "https://localhost:8080/"
        },
        "id": "34F1Wflzwhoq",
        "outputId": "91084efa-f184-4fc9-a27d-b06f85495d82"
      },
      "execution_count": null,
      "outputs": [
        {
          "output_type": "stream",
          "name": "stdout",
          "text": [
            "842\n"
          ]
        }
      ]
    },
    {
      "cell_type": "code",
      "source": [
        "target_label = to_categorical(target_label)"
      ],
      "metadata": {
        "id": "BRu1onjOyKMX"
      },
      "execution_count": null,
      "outputs": []
    },
    {
      "cell_type": "code",
      "source": [
        "trainX = v_stacked_2[0:800][:][:]\n",
        "print(trainX.shape)\n",
        "testX = v_stacked_2[800:-1][:][:]\n",
        "print(testX.shape)\n",
        "trainy = target_label[0:800][:][:]\n",
        "print(trainy.shape)\n",
        "testy = target_label[800:-1][:][:]\n",
        "print(testy.shape)"
      ],
      "metadata": {
        "colab": {
          "base_uri": "https://localhost:8080/"
        },
        "id": "KOar9vFxyQVo",
        "outputId": "986bbd09-452e-4120-f03d-8881364e4903"
      },
      "execution_count": null,
      "outputs": [
        {
          "output_type": "stream",
          "name": "stdout",
          "text": [
            "(800, 30, 26)\n",
            "(41, 30, 26)\n",
            "(800, 6)\n",
            "(41, 6)\n"
          ]
        }
      ]
    },
    {
      "cell_type": "code",
      "source": [
        "def evaluate_model(trainX, trainy, testX, testy):\n",
        "\tverbose, epochs, batch_size = 0, 80, 8\n",
        "\tn_timesteps, n_features, n_outputs = trainX.shape[1], trainX.shape[2], trainy.shape[1]\n",
        "\tmodel = Sequential()\n",
        "\tmodel.add(Conv1D(filters=6, kernel_size=3, activation='relu', padding='same',input_shape=(n_timesteps,n_features)))\n",
        "\tmodel.add(Conv1D(filters=9, kernel_size=3, activation='relu', padding='same'))\n",
        "\tmodel.add(Dropout(0.25))\n",
        "\tmodel.add(MaxPooling1D(pool_size=2))\n",
        "\tmodel.add(Conv1D(filters=12, kernel_size=3, activation='relu', padding='same'))\n",
        "\tmodel.add(Dropout(0.15))\n",
        "\tmodel.add(LSTM(units=12, activation='relu') \n",
        "\tmodel.add(Flatten())\n",
        "\tmodel.add(Dense(400, activation='relu'))\n",
        "\tmodel.add(Dropout(0.10))\n",
        "\tmodel.add(Dense(700, activation='relu'))\n",
        "\tmodel.add(Dropout(0.15))\n",
        "\tmodel.add(Dense(1000, activation='relu'))\n",
        "\tmodel.add(Dropout(0.2))\n",
        "\tmodel.add(Dense(n_outputs, activation='softmax'))\n",
        "\tmodel.compile(loss='categorical_crossentropy', optimizer='adam', metrics=['accuracy'])\n",
        "\t# fit network\n",
        "\tmodel.fit(trainX, trainy, epochs=epochs, batch_size=batch_size, verbose=verbose)\n",
        "\t# evaluate model\n",
        "\t_, accuracy = model.evaluate(testX, testy, batch_size=batch_size, verbose=0)\n",
        "\treturn accuracy"
      ],
      "metadata": {
        "id": "wpx0e0MnyqTh"
      },
      "execution_count": null,
      "outputs": []
    },
    {
      "cell_type": "code",
      "source": [
        "def summarize_results(scores):\n",
        "\tprint(scores)\n",
        "\tm, s = mean(scores), std(scores)\n",
        "\tprint('Accuracy: %.3f%% (+/-%.3f)' % (m, s))"
      ],
      "metadata": {
        "id": "GRztIVjIysai"
      },
      "execution_count": null,
      "outputs": []
    },
    {
      "cell_type": "code",
      "source": [
        "def run_experiment(repeats=10):\n",
        "\tscores = list()\n",
        "\tfor r in range(repeats):\n",
        "\t\tscore = evaluate_model(trainX, trainy, testX, testy)\n",
        "\t\tscore = score * 100.0\n",
        "\t\tprint('>#%d: %.3f' % (r+1, score))\n",
        "\t\tscores.append(score)\n",
        "\t# summarize results\n",
        "\tsummarize_results(scores)"
      ],
      "metadata": {
        "id": "zlVb6Kxgy2sB"
      },
      "execution_count": null,
      "outputs": []
    },
    {
      "cell_type": "code",
      "source": [
        "run_experiment()"
      ],
      "metadata": {
        "colab": {
          "base_uri": "https://localhost:8080/"
        },
        "id": "nX6MAcPfy57b",
        "outputId": "cef867ff-b1c8-499b-c9f2-6c2a9671a3d6"
      },
      "execution_count": null,
      "outputs": [
        {
          "output_type": "stream",
          "name": "stdout",
          "text": [
            ">#1: 60.976\n",
            ">#2: 53.659\n",
            ">#3: 58.537\n",
            ">#4: 43.902\n",
            ">#5: 43.902\n",
            ">#6: 53.659\n",
            ">#7: 70.732\n",
            ">#8: 58.537\n",
            ">#9: 60.976\n",
            ">#10: 78.049\n",
            "[60.975611209869385, 53.658539056777954, 58.53658318519592, 43.90243887901306, 43.90243887901306, 53.658539056777954, 70.7317054271698, 58.53658318519592, 60.975611209869385, 78.04877758026123]\n",
            "Accuracy: 58.293% (+/-10.083)\n"
          ]
        }
      ]
    }
  ]
}